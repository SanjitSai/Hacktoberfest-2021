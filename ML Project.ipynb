{
 "cells": [
  {
   "cell_type": "markdown",
   "id": "05883441",
   "metadata": {},
   "source": [
    "# Importing Modules and Dataset "
   ]
  },
  {
   "cell_type": "code",
   "execution_count": 1,
   "id": "7fd1a8de",
   "metadata": {},
   "outputs": [],
   "source": [
    "import numpy as np\n",
    "import pandas as pd\n",
    "import matplotlib.pyplot as plt \n",
    "plt.style.use('dark_background') \n",
    "import warnings \n",
    "warnings.filterwarnings(action = 'ignore') \n",
    "import seaborn as sns\n",
    "import difflib #comparison\n",
    "from sklearn.feature_extraction.text import TfidfVectorizer # to convert text to numerical data\n",
    "from sklearn.metrics.pairwise import cosine_similarity # similarity scores"
   ]
  },
  {
   "cell_type": "code",
   "execution_count": 2,
   "id": "d404aab1",
   "metadata": {
    "scrolled": true
   },
   "outputs": [
    {
     "data": {
      "text/html": [
       "<div>\n",
       "<style scoped>\n",
       "    .dataframe tbody tr th:only-of-type {\n",
       "        vertical-align: middle;\n",
       "    }\n",
       "\n",
       "    .dataframe tbody tr th {\n",
       "        vertical-align: top;\n",
       "    }\n",
       "\n",
       "    .dataframe thead th {\n",
       "        text-align: right;\n",
       "    }\n",
       "</style>\n",
       "<table border=\"1\" class=\"dataframe\">\n",
       "  <thead>\n",
       "    <tr style=\"text-align: right;\">\n",
       "      <th></th>\n",
       "      <th>Track URI</th>\n",
       "      <th>Track Name</th>\n",
       "      <th>Artist URI(s)</th>\n",
       "      <th>Artist Name(s)</th>\n",
       "      <th>Album URI</th>\n",
       "      <th>Album Name</th>\n",
       "      <th>Album Artist URI(s)</th>\n",
       "      <th>Album Artist Name(s)</th>\n",
       "      <th>Album Release Date</th>\n",
       "      <th>Album Image URL</th>\n",
       "      <th>Disc Number</th>\n",
       "      <th>Track Number</th>\n",
       "      <th>Track Duration (ms)</th>\n",
       "      <th>Track Preview URL</th>\n",
       "      <th>Explicit</th>\n",
       "      <th>Popularity</th>\n",
       "      <th>Added By</th>\n",
       "      <th>Added At</th>\n",
       "      <th>Unnamed: 18</th>\n",
       "      <th>Index</th>\n",
       "    </tr>\n",
       "  </thead>\n",
       "  <tbody>\n",
       "    <tr>\n",
       "      <th>0</th>\n",
       "      <td>spotify:track:6SRWhUJcD2YKahCwHavz3X</td>\n",
       "      <td>Darkside</td>\n",
       "      <td>spotify:artist:7vk5e3vY1uw9plTHJAMwjN, spotify...</td>\n",
       "      <td>Alan Walker, Au/Ra, Tomine Harket</td>\n",
       "      <td>spotify:album:3nzuGtN3nXARvvecier4K0</td>\n",
       "      <td>Different World</td>\n",
       "      <td>spotify:artist:7vk5e3vY1uw9plTHJAMwjN</td>\n",
       "      <td>Alan Walker</td>\n",
       "      <td>14-12-2018</td>\n",
       "      <td>https://i.scdn.co/image/ab67616d0000b273a108e0...</td>\n",
       "      <td>1</td>\n",
       "      <td>11</td>\n",
       "      <td>211680</td>\n",
       "      <td>https://p.scdn.co/mp3-preview/b5e08f76dc4dab3e...</td>\n",
       "      <td>False</td>\n",
       "      <td>72</td>\n",
       "      <td>spotify:user:6lvql4lfbafry09uhcovjqpv9</td>\n",
       "      <td>2022-05-29T12:44:42Z</td>\n",
       "      <td>NaN</td>\n",
       "      <td>0</td>\n",
       "    </tr>\n",
       "    <tr>\n",
       "      <th>1</th>\n",
       "      <td>spotify:track:3u1S1OmAUhx5DRlLrXqyp3</td>\n",
       "      <td>Rise</td>\n",
       "      <td>spotify:artist:1HBjj22wzbscIZ9sEb5dyf, spotify...</td>\n",
       "      <td>Jonas Blue, Jack &amp; Jack</td>\n",
       "      <td>spotify:album:3KjCdhPbjbLptyJzviKu4P</td>\n",
       "      <td>Rise</td>\n",
       "      <td>spotify:artist:1HBjj22wzbscIZ9sEb5dyf, spotify...</td>\n",
       "      <td>Jonas Blue, Jack &amp; Jack</td>\n",
       "      <td>25-05-2018</td>\n",
       "      <td>https://i.scdn.co/image/ab67616d0000b273ffe7d2...</td>\n",
       "      <td>1</td>\n",
       "      <td>1</td>\n",
       "      <td>194407</td>\n",
       "      <td>https://p.scdn.co/mp3-preview/5ec55e481ac31fad...</td>\n",
       "      <td>False</td>\n",
       "      <td>67</td>\n",
       "      <td>spotify:user:6lvql4lfbafry09uhcovjqpv9</td>\n",
       "      <td>2022-05-29T12:44:42Z</td>\n",
       "      <td>NaN</td>\n",
       "      <td>1</td>\n",
       "    </tr>\n",
       "    <tr>\n",
       "      <th>2</th>\n",
       "      <td>spotify:track:18YRKiIZO4qDEc5Ik0Cry6</td>\n",
       "      <td>FRIENDS - R3hab Remix</td>\n",
       "      <td>spotify:artist:64KEffDW9EtZ1y2vBYgq8T, spotify...</td>\n",
       "      <td>Marshmello, Anne-Marie, R3HAB</td>\n",
       "      <td>spotify:album:2KBVjOOFq54CcaHTxItDhl</td>\n",
       "      <td>FRIENDS (R3hab Remix)</td>\n",
       "      <td>spotify:artist:64KEffDW9EtZ1y2vBYgq8T, spotify...</td>\n",
       "      <td>Marshmello, Anne-Marie, R3HAB</td>\n",
       "      <td>23-03-2018</td>\n",
       "      <td>https://i.scdn.co/image/ab67616d0000b2737160be...</td>\n",
       "      <td>1</td>\n",
       "      <td>1</td>\n",
       "      <td>157142</td>\n",
       "      <td>https://p.scdn.co/mp3-preview/e2898bbfe10408ca...</td>\n",
       "      <td>True</td>\n",
       "      <td>57</td>\n",
       "      <td>spotify:user:6lvql4lfbafry09uhcovjqpv9</td>\n",
       "      <td>2022-05-29T12:44:42Z</td>\n",
       "      <td>NaN</td>\n",
       "      <td>2</td>\n",
       "    </tr>\n",
       "    <tr>\n",
       "      <th>3</th>\n",
       "      <td>spotify:track:09IStsImFySgyp0pIQdqAc</td>\n",
       "      <td>The Middle</td>\n",
       "      <td>spotify:artist:2qxJFvFYMEDqd7ui6kSAcq, spotify...</td>\n",
       "      <td>Zedd, Maren Morris, Grey</td>\n",
       "      <td>spotify:album:7nEiwcUSwycvC77kZ9ub7c</td>\n",
       "      <td>The Middle</td>\n",
       "      <td>spotify:artist:2qxJFvFYMEDqd7ui6kSAcq, spotify...</td>\n",
       "      <td>Zedd, Maren Morris, Grey</td>\n",
       "      <td>23-01-2018</td>\n",
       "      <td>https://i.scdn.co/image/ab67616d0000b273fbe22d...</td>\n",
       "      <td>1</td>\n",
       "      <td>1</td>\n",
       "      <td>184732</td>\n",
       "      <td>https://p.scdn.co/mp3-preview/0888eaf5d30f8a58...</td>\n",
       "      <td>False</td>\n",
       "      <td>79</td>\n",
       "      <td>spotify:user:6lvql4lfbafry09uhcovjqpv9</td>\n",
       "      <td>2022-05-29T12:44:42Z</td>\n",
       "      <td>NaN</td>\n",
       "      <td>3</td>\n",
       "    </tr>\n",
       "    <tr>\n",
       "      <th>4</th>\n",
       "      <td>spotify:track:0E9ZjEAyAwOXZ7wJC0PD33</td>\n",
       "      <td>In My Mind</td>\n",
       "      <td>spotify:artist:3v6Ji4uoWtKRkhuDUaxi9n, spotify...</td>\n",
       "      <td>Dynoro, Gigi D'Agostino</td>\n",
       "      <td>spotify:album:1c79SozES9Eb3Lzf9KVaIa</td>\n",
       "      <td>In My Mind</td>\n",
       "      <td>spotify:artist:3v6Ji4uoWtKRkhuDUaxi9n, spotify...</td>\n",
       "      <td>Dynoro, Gigi D'Agostino</td>\n",
       "      <td>08-06-2018</td>\n",
       "      <td>https://i.scdn.co/image/ab67616d0000b27328a8a0...</td>\n",
       "      <td>1</td>\n",
       "      <td>1</td>\n",
       "      <td>184560</td>\n",
       "      <td>https://p.scdn.co/mp3-preview/14d056cbf98e9933...</td>\n",
       "      <td>False</td>\n",
       "      <td>77</td>\n",
       "      <td>spotify:user:6lvql4lfbafry09uhcovjqpv9</td>\n",
       "      <td>2022-05-29T12:44:42Z</td>\n",
       "      <td>NaN</td>\n",
       "      <td>4</td>\n",
       "    </tr>\n",
       "  </tbody>\n",
       "</table>\n",
       "</div>"
      ],
      "text/plain": [
       "                              Track URI             Track Name  \\\n",
       "0  spotify:track:6SRWhUJcD2YKahCwHavz3X               Darkside   \n",
       "1  spotify:track:3u1S1OmAUhx5DRlLrXqyp3                   Rise   \n",
       "2  spotify:track:18YRKiIZO4qDEc5Ik0Cry6  FRIENDS - R3hab Remix   \n",
       "3  spotify:track:09IStsImFySgyp0pIQdqAc             The Middle   \n",
       "4  spotify:track:0E9ZjEAyAwOXZ7wJC0PD33             In My Mind   \n",
       "\n",
       "                                       Artist URI(s)  \\\n",
       "0  spotify:artist:7vk5e3vY1uw9plTHJAMwjN, spotify...   \n",
       "1  spotify:artist:1HBjj22wzbscIZ9sEb5dyf, spotify...   \n",
       "2  spotify:artist:64KEffDW9EtZ1y2vBYgq8T, spotify...   \n",
       "3  spotify:artist:2qxJFvFYMEDqd7ui6kSAcq, spotify...   \n",
       "4  spotify:artist:3v6Ji4uoWtKRkhuDUaxi9n, spotify...   \n",
       "\n",
       "                      Artist Name(s)                             Album URI  \\\n",
       "0  Alan Walker, Au/Ra, Tomine Harket  spotify:album:3nzuGtN3nXARvvecier4K0   \n",
       "1            Jonas Blue, Jack & Jack  spotify:album:3KjCdhPbjbLptyJzviKu4P   \n",
       "2      Marshmello, Anne-Marie, R3HAB  spotify:album:2KBVjOOFq54CcaHTxItDhl   \n",
       "3           Zedd, Maren Morris, Grey  spotify:album:7nEiwcUSwycvC77kZ9ub7c   \n",
       "4            Dynoro, Gigi D'Agostino  spotify:album:1c79SozES9Eb3Lzf9KVaIa   \n",
       "\n",
       "              Album Name                                Album Artist URI(s)  \\\n",
       "0        Different World              spotify:artist:7vk5e3vY1uw9plTHJAMwjN   \n",
       "1                   Rise  spotify:artist:1HBjj22wzbscIZ9sEb5dyf, spotify...   \n",
       "2  FRIENDS (R3hab Remix)  spotify:artist:64KEffDW9EtZ1y2vBYgq8T, spotify...   \n",
       "3             The Middle  spotify:artist:2qxJFvFYMEDqd7ui6kSAcq, spotify...   \n",
       "4             In My Mind  spotify:artist:3v6Ji4uoWtKRkhuDUaxi9n, spotify...   \n",
       "\n",
       "            Album Artist Name(s) Album Release Date  \\\n",
       "0                    Alan Walker         14-12-2018   \n",
       "1        Jonas Blue, Jack & Jack         25-05-2018   \n",
       "2  Marshmello, Anne-Marie, R3HAB         23-03-2018   \n",
       "3       Zedd, Maren Morris, Grey         23-01-2018   \n",
       "4        Dynoro, Gigi D'Agostino         08-06-2018   \n",
       "\n",
       "                                     Album Image URL  Disc Number  \\\n",
       "0  https://i.scdn.co/image/ab67616d0000b273a108e0...            1   \n",
       "1  https://i.scdn.co/image/ab67616d0000b273ffe7d2...            1   \n",
       "2  https://i.scdn.co/image/ab67616d0000b2737160be...            1   \n",
       "3  https://i.scdn.co/image/ab67616d0000b273fbe22d...            1   \n",
       "4  https://i.scdn.co/image/ab67616d0000b27328a8a0...            1   \n",
       "\n",
       "   Track Number  Track Duration (ms)  \\\n",
       "0            11               211680   \n",
       "1             1               194407   \n",
       "2             1               157142   \n",
       "3             1               184732   \n",
       "4             1               184560   \n",
       "\n",
       "                                   Track Preview URL  Explicit  Popularity  \\\n",
       "0  https://p.scdn.co/mp3-preview/b5e08f76dc4dab3e...     False          72   \n",
       "1  https://p.scdn.co/mp3-preview/5ec55e481ac31fad...     False          67   \n",
       "2  https://p.scdn.co/mp3-preview/e2898bbfe10408ca...      True          57   \n",
       "3  https://p.scdn.co/mp3-preview/0888eaf5d30f8a58...     False          79   \n",
       "4  https://p.scdn.co/mp3-preview/14d056cbf98e9933...     False          77   \n",
       "\n",
       "                                 Added By              Added At  Unnamed: 18  \\\n",
       "0  spotify:user:6lvql4lfbafry09uhcovjqpv9  2022-05-29T12:44:42Z          NaN   \n",
       "1  spotify:user:6lvql4lfbafry09uhcovjqpv9  2022-05-29T12:44:42Z          NaN   \n",
       "2  spotify:user:6lvql4lfbafry09uhcovjqpv9  2022-05-29T12:44:42Z          NaN   \n",
       "3  spotify:user:6lvql4lfbafry09uhcovjqpv9  2022-05-29T12:44:42Z          NaN   \n",
       "4  spotify:user:6lvql4lfbafry09uhcovjqpv9  2022-05-29T12:44:42Z          NaN   \n",
       "\n",
       "   Index  \n",
       "0      0  \n",
       "1      1  \n",
       "2      2  \n",
       "3      3  \n",
       "4      4  "
      ]
     },
     "execution_count": 2,
     "metadata": {},
     "output_type": "execute_result"
    }
   ],
   "source": [
    "df = pd.read_csv('final_playlist.csv')\n",
    "df.head()"
   ]
  },
  {
   "cell_type": "code",
   "execution_count": 3,
   "id": "f135a1a6",
   "metadata": {},
   "outputs": [
    {
     "data": {
      "text/plain": [
       "(1238, 20)"
      ]
     },
     "execution_count": 3,
     "metadata": {},
     "output_type": "execute_result"
    }
   ],
   "source": [
    "df.shape"
   ]
  },
  {
   "cell_type": "markdown",
   "id": "abf0fe86",
   "metadata": {},
   "source": [
    "# Data preprocessing"
   ]
  },
  {
   "cell_type": "code",
   "execution_count": 4,
   "id": "a39b41f1",
   "metadata": {},
   "outputs": [
    {
     "name": "stdout",
     "output_type": "stream",
     "text": [
      "<class 'pandas.core.frame.DataFrame'>\n",
      "RangeIndex: 1238 entries, 0 to 1237\n",
      "Data columns (total 20 columns):\n",
      " #   Column                Non-Null Count  Dtype  \n",
      "---  ------                --------------  -----  \n",
      " 0   Track URI             1238 non-null   object \n",
      " 1   Track Name            1238 non-null   object \n",
      " 2   Artist URI(s)         1238 non-null   object \n",
      " 3   Artist Name(s)        1238 non-null   object \n",
      " 4   Album URI             1238 non-null   object \n",
      " 5   Album Name            1238 non-null   object \n",
      " 6   Album Artist URI(s)   1238 non-null   object \n",
      " 7   Album Artist Name(s)  1238 non-null   object \n",
      " 8   Album Release Date    1238 non-null   object \n",
      " 9   Album Image URL       1238 non-null   object \n",
      " 10  Disc Number           1238 non-null   int64  \n",
      " 11  Track Number          1238 non-null   int64  \n",
      " 12  Track Duration (ms)   1238 non-null   int64  \n",
      " 13  Track Preview URL     1040 non-null   object \n",
      " 14  Explicit              1238 non-null   bool   \n",
      " 15  Popularity            1238 non-null   int64  \n",
      " 16  Added By              1238 non-null   object \n",
      " 17  Added At              1238 non-null   object \n",
      " 18  Unnamed: 18           0 non-null      float64\n",
      " 19  Index                 1238 non-null   int64  \n",
      "dtypes: bool(1), float64(1), int64(5), object(13)\n",
      "memory usage: 185.1+ KB\n"
     ]
    }
   ],
   "source": [
    "df.info() #check if there are any missing values in important featured"
   ]
  },
  {
   "cell_type": "code",
   "execution_count": 5,
   "id": "a5dd9cfe",
   "metadata": {},
   "outputs": [],
   "source": [
    "df  = df.drop(['Track URI','Track Preview URL','Added By','Added At'],axis=1) \n",
    "# dropping them isnt gonna make difference as we consider important features only"
   ]
  },
  {
   "cell_type": "code",
   "execution_count": 6,
   "id": "ea116234",
   "metadata": {},
   "outputs": [],
   "source": [
    "df = df.rename(columns = {'Track Name' : 'Track'}) #renaming it due to syntax error"
   ]
  },
  {
   "cell_type": "code",
   "execution_count": 7,
   "id": "02ebea18",
   "metadata": {},
   "outputs": [],
   "source": [
    "df = df.rename(columns = {'Artist Name(s)' : 'Artist'})"
   ]
  },
  {
   "cell_type": "code",
   "execution_count": 8,
   "id": "efc88afa",
   "metadata": {},
   "outputs": [],
   "source": [
    "df = df.rename(columns = {'Album Name' : 'Album'})"
   ]
  },
  {
   "cell_type": "code",
   "execution_count": 9,
   "id": "983367a7",
   "metadata": {},
   "outputs": [],
   "source": [
    "df = df.rename(columns = {'Album Artist Name(s)' : 'Album_Artist'})"
   ]
  },
  {
   "cell_type": "code",
   "execution_count": 10,
   "id": "b96c1d3d",
   "metadata": {},
   "outputs": [
    {
     "data": {
      "text/html": [
       "<div>\n",
       "<style scoped>\n",
       "    .dataframe tbody tr th:only-of-type {\n",
       "        vertical-align: middle;\n",
       "    }\n",
       "\n",
       "    .dataframe tbody tr th {\n",
       "        vertical-align: top;\n",
       "    }\n",
       "\n",
       "    .dataframe thead th {\n",
       "        text-align: right;\n",
       "    }\n",
       "</style>\n",
       "<table border=\"1\" class=\"dataframe\">\n",
       "  <thead>\n",
       "    <tr style=\"text-align: right;\">\n",
       "      <th></th>\n",
       "      <th>Track</th>\n",
       "      <th>Artist URI(s)</th>\n",
       "      <th>Artist</th>\n",
       "      <th>Album URI</th>\n",
       "      <th>Album</th>\n",
       "      <th>Album Artist URI(s)</th>\n",
       "      <th>Album_Artist</th>\n",
       "      <th>Album Release Date</th>\n",
       "      <th>Album Image URL</th>\n",
       "      <th>Disc Number</th>\n",
       "      <th>Track Number</th>\n",
       "      <th>Track Duration (ms)</th>\n",
       "      <th>Explicit</th>\n",
       "      <th>Popularity</th>\n",
       "      <th>Unnamed: 18</th>\n",
       "      <th>Index</th>\n",
       "    </tr>\n",
       "  </thead>\n",
       "  <tbody>\n",
       "    <tr>\n",
       "      <th>0</th>\n",
       "      <td>Darkside</td>\n",
       "      <td>spotify:artist:7vk5e3vY1uw9plTHJAMwjN, spotify...</td>\n",
       "      <td>Alan Walker, Au/Ra, Tomine Harket</td>\n",
       "      <td>spotify:album:3nzuGtN3nXARvvecier4K0</td>\n",
       "      <td>Different World</td>\n",
       "      <td>spotify:artist:7vk5e3vY1uw9plTHJAMwjN</td>\n",
       "      <td>Alan Walker</td>\n",
       "      <td>14-12-2018</td>\n",
       "      <td>https://i.scdn.co/image/ab67616d0000b273a108e0...</td>\n",
       "      <td>1</td>\n",
       "      <td>11</td>\n",
       "      <td>211680</td>\n",
       "      <td>False</td>\n",
       "      <td>72</td>\n",
       "      <td>NaN</td>\n",
       "      <td>0</td>\n",
       "    </tr>\n",
       "    <tr>\n",
       "      <th>1</th>\n",
       "      <td>Rise</td>\n",
       "      <td>spotify:artist:1HBjj22wzbscIZ9sEb5dyf, spotify...</td>\n",
       "      <td>Jonas Blue, Jack &amp; Jack</td>\n",
       "      <td>spotify:album:3KjCdhPbjbLptyJzviKu4P</td>\n",
       "      <td>Rise</td>\n",
       "      <td>spotify:artist:1HBjj22wzbscIZ9sEb5dyf, spotify...</td>\n",
       "      <td>Jonas Blue, Jack &amp; Jack</td>\n",
       "      <td>25-05-2018</td>\n",
       "      <td>https://i.scdn.co/image/ab67616d0000b273ffe7d2...</td>\n",
       "      <td>1</td>\n",
       "      <td>1</td>\n",
       "      <td>194407</td>\n",
       "      <td>False</td>\n",
       "      <td>67</td>\n",
       "      <td>NaN</td>\n",
       "      <td>1</td>\n",
       "    </tr>\n",
       "    <tr>\n",
       "      <th>2</th>\n",
       "      <td>FRIENDS - R3hab Remix</td>\n",
       "      <td>spotify:artist:64KEffDW9EtZ1y2vBYgq8T, spotify...</td>\n",
       "      <td>Marshmello, Anne-Marie, R3HAB</td>\n",
       "      <td>spotify:album:2KBVjOOFq54CcaHTxItDhl</td>\n",
       "      <td>FRIENDS (R3hab Remix)</td>\n",
       "      <td>spotify:artist:64KEffDW9EtZ1y2vBYgq8T, spotify...</td>\n",
       "      <td>Marshmello, Anne-Marie, R3HAB</td>\n",
       "      <td>23-03-2018</td>\n",
       "      <td>https://i.scdn.co/image/ab67616d0000b2737160be...</td>\n",
       "      <td>1</td>\n",
       "      <td>1</td>\n",
       "      <td>157142</td>\n",
       "      <td>True</td>\n",
       "      <td>57</td>\n",
       "      <td>NaN</td>\n",
       "      <td>2</td>\n",
       "    </tr>\n",
       "    <tr>\n",
       "      <th>3</th>\n",
       "      <td>The Middle</td>\n",
       "      <td>spotify:artist:2qxJFvFYMEDqd7ui6kSAcq, spotify...</td>\n",
       "      <td>Zedd, Maren Morris, Grey</td>\n",
       "      <td>spotify:album:7nEiwcUSwycvC77kZ9ub7c</td>\n",
       "      <td>The Middle</td>\n",
       "      <td>spotify:artist:2qxJFvFYMEDqd7ui6kSAcq, spotify...</td>\n",
       "      <td>Zedd, Maren Morris, Grey</td>\n",
       "      <td>23-01-2018</td>\n",
       "      <td>https://i.scdn.co/image/ab67616d0000b273fbe22d...</td>\n",
       "      <td>1</td>\n",
       "      <td>1</td>\n",
       "      <td>184732</td>\n",
       "      <td>False</td>\n",
       "      <td>79</td>\n",
       "      <td>NaN</td>\n",
       "      <td>3</td>\n",
       "    </tr>\n",
       "    <tr>\n",
       "      <th>4</th>\n",
       "      <td>In My Mind</td>\n",
       "      <td>spotify:artist:3v6Ji4uoWtKRkhuDUaxi9n, spotify...</td>\n",
       "      <td>Dynoro, Gigi D'Agostino</td>\n",
       "      <td>spotify:album:1c79SozES9Eb3Lzf9KVaIa</td>\n",
       "      <td>In My Mind</td>\n",
       "      <td>spotify:artist:3v6Ji4uoWtKRkhuDUaxi9n, spotify...</td>\n",
       "      <td>Dynoro, Gigi D'Agostino</td>\n",
       "      <td>08-06-2018</td>\n",
       "      <td>https://i.scdn.co/image/ab67616d0000b27328a8a0...</td>\n",
       "      <td>1</td>\n",
       "      <td>1</td>\n",
       "      <td>184560</td>\n",
       "      <td>False</td>\n",
       "      <td>77</td>\n",
       "      <td>NaN</td>\n",
       "      <td>4</td>\n",
       "    </tr>\n",
       "  </tbody>\n",
       "</table>\n",
       "</div>"
      ],
      "text/plain": [
       "                   Track                                      Artist URI(s)  \\\n",
       "0               Darkside  spotify:artist:7vk5e3vY1uw9plTHJAMwjN, spotify...   \n",
       "1                   Rise  spotify:artist:1HBjj22wzbscIZ9sEb5dyf, spotify...   \n",
       "2  FRIENDS - R3hab Remix  spotify:artist:64KEffDW9EtZ1y2vBYgq8T, spotify...   \n",
       "3             The Middle  spotify:artist:2qxJFvFYMEDqd7ui6kSAcq, spotify...   \n",
       "4             In My Mind  spotify:artist:3v6Ji4uoWtKRkhuDUaxi9n, spotify...   \n",
       "\n",
       "                              Artist                             Album URI  \\\n",
       "0  Alan Walker, Au/Ra, Tomine Harket  spotify:album:3nzuGtN3nXARvvecier4K0   \n",
       "1            Jonas Blue, Jack & Jack  spotify:album:3KjCdhPbjbLptyJzviKu4P   \n",
       "2      Marshmello, Anne-Marie, R3HAB  spotify:album:2KBVjOOFq54CcaHTxItDhl   \n",
       "3           Zedd, Maren Morris, Grey  spotify:album:7nEiwcUSwycvC77kZ9ub7c   \n",
       "4            Dynoro, Gigi D'Agostino  spotify:album:1c79SozES9Eb3Lzf9KVaIa   \n",
       "\n",
       "                   Album                                Album Artist URI(s)  \\\n",
       "0        Different World              spotify:artist:7vk5e3vY1uw9plTHJAMwjN   \n",
       "1                   Rise  spotify:artist:1HBjj22wzbscIZ9sEb5dyf, spotify...   \n",
       "2  FRIENDS (R3hab Remix)  spotify:artist:64KEffDW9EtZ1y2vBYgq8T, spotify...   \n",
       "3             The Middle  spotify:artist:2qxJFvFYMEDqd7ui6kSAcq, spotify...   \n",
       "4             In My Mind  spotify:artist:3v6Ji4uoWtKRkhuDUaxi9n, spotify...   \n",
       "\n",
       "                    Album_Artist Album Release Date  \\\n",
       "0                    Alan Walker         14-12-2018   \n",
       "1        Jonas Blue, Jack & Jack         25-05-2018   \n",
       "2  Marshmello, Anne-Marie, R3HAB         23-03-2018   \n",
       "3       Zedd, Maren Morris, Grey         23-01-2018   \n",
       "4        Dynoro, Gigi D'Agostino         08-06-2018   \n",
       "\n",
       "                                     Album Image URL  Disc Number  \\\n",
       "0  https://i.scdn.co/image/ab67616d0000b273a108e0...            1   \n",
       "1  https://i.scdn.co/image/ab67616d0000b273ffe7d2...            1   \n",
       "2  https://i.scdn.co/image/ab67616d0000b2737160be...            1   \n",
       "3  https://i.scdn.co/image/ab67616d0000b273fbe22d...            1   \n",
       "4  https://i.scdn.co/image/ab67616d0000b27328a8a0...            1   \n",
       "\n",
       "   Track Number  Track Duration (ms)  Explicit  Popularity  Unnamed: 18  Index  \n",
       "0            11               211680     False          72          NaN      0  \n",
       "1             1               194407     False          67          NaN      1  \n",
       "2             1               157142      True          57          NaN      2  \n",
       "3             1               184732     False          79          NaN      3  \n",
       "4             1               184560     False          77          NaN      4  "
      ]
     },
     "execution_count": 10,
     "metadata": {},
     "output_type": "execute_result"
    }
   ],
   "source": [
    "df.head(5)"
   ]
  },
  {
   "cell_type": "code",
   "execution_count": 11,
   "id": "ce0c924d",
   "metadata": {},
   "outputs": [
    {
     "name": "stdout",
     "output_type": "stream",
     "text": [
      "['Track', 'Album', 'Artist', 'Album_Artist']\n"
     ]
    }
   ],
   "source": [
    "# selecting the relevant/important features for recommendation (feature selection)\n",
    "\n",
    "important_features = ['Track','Album','Artist','Album_Artist']\n",
    "print(important_features)\n",
    "# more features can be added and similarly we can exclude features if we wish to"
   ]
  },
  {
   "cell_type": "code",
   "execution_count": 12,
   "id": "bf15e811",
   "metadata": {},
   "outputs": [
    {
     "data": {
      "text/plain": [
       "0    Darkside Different World Alan Walker, Au/Ra, T...\n",
       "1    Rise Rise Jonas Blue, Jack & Jack Jonas Blue, ...\n",
       "2    FRIENDS - R3hab Remix FRIENDS (R3hab Remix) Ma...\n",
       "3    The Middle The Middle Zedd, Maren Morris, Grey...\n",
       "4    In My Mind In My Mind Dynoro, Gigi D'Agostino ...\n",
       "5                          REMEDY REMEDY Alesso Alesso\n",
       "6    Sick Boy Sick Boy The Chainsmokers The Chainsm...\n",
       "7    We Don't Care We Don't Care Sigala, The Vamps ...\n",
       "8    Ignite Ignite Alan Walker, Julie Bergan, K-391...\n",
       "9    WTF (feat. Amber Van Day) WTF (feat. Amber Van...\n",
       "dtype: object"
      ]
     },
     "execution_count": 12,
     "metadata": {},
     "output_type": "execute_result"
    }
   ],
   "source": [
    "# combining all the selected features\n",
    "\n",
    "combined_features = df['Track']+' '+df['Album']+' '+df['Artist']+' '+df['Album_Artist']\n",
    "combined_features.head(10)"
   ]
  },
  {
   "cell_type": "code",
   "execution_count": 13,
   "id": "c4460b59",
   "metadata": {},
   "outputs": [],
   "source": [
    "# converting the text data to feature vectors(numerical values)\n",
    "\n",
    "vectors = TfidfVectorizer()"
   ]
  },
  {
   "cell_type": "code",
   "execution_count": 14,
   "id": "e06eb2b3",
   "metadata": {},
   "outputs": [],
   "source": [
    "feature_vectors = vectors.fit_transform(combined_features)"
   ]
  },
  {
   "cell_type": "code",
   "execution_count": 15,
   "id": "9efe723e",
   "metadata": {},
   "outputs": [
    {
     "name": "stdout",
     "output_type": "stream",
     "text": [
      "  (0, 1186)\t0.33611348431312305\n",
      "  (0, 2833)\t0.33611348431312305\n",
      "  (0, 2187)\t0.33611348431312305\n",
      "  (0, 241)\t0.33611348431312305\n",
      "  (0, 3005)\t0.3989149582584469\n",
      "  (0, 97)\t0.40114934177821804\n",
      "  (0, 3079)\t0.22368644877494967\n",
      "  (0, 758)\t0.255047177238792\n",
      "  (0, 695)\t0.33611348431312305\n",
      "  (1, 1350)\t0.7591829330656457\n",
      "  (1, 388)\t0.34893416954623657\n",
      "  (1, 1401)\t0.36247802596778894\n",
      "  (1, 2307)\t0.41291149191493387\n",
      "  (2, 1734)\t0.3702381337986851\n",
      "  (2, 164)\t0.3702381337986851\n",
      "  (2, 1741)\t0.3245505577551743\n",
      "  (2, 2258)\t0.22649287027904857\n",
      "  (2, 2186)\t0.6573728683307246\n",
      "  (2, 1045)\t0.3702381337986851\n",
      "  (3, 1142)\t0.4042448948010109\n",
      "  (3, 1857)\t0.4744008716310721\n",
      "  (3, 1732)\t0.4744008716310721\n",
      "  (3, 3122)\t0.39440102937746796\n",
      "  (3, 1801)\t0.4485083879739663\n",
      "  (3, 2774)\t0.1725159266898733\n",
      "  :\t:\n",
      "  (1233, 885)\t0.6745787821883908\n",
      "  (1233, 634)\t0.3372893910941954\n",
      "  (1233, 1990)\t0.22213445816917665\n",
      "  (1234, 1846)\t0.34395766738011424\n",
      "  (1234, 488)\t0.34395766738011424\n",
      "  (1234, 1253)\t0.5388818133206023\n",
      "  (1234, 1400)\t0.5219988857883043\n",
      "  (1234, 2602)\t0.22520085417733984\n",
      "  (1234, 2083)\t0.22345348202457888\n",
      "  (1234, 1864)\t0.22345348202457888\n",
      "  (1234, 2002)\t0.22345348202457888\n",
      "  (1235, 357)\t0.7559289460184544\n",
      "  (1235, 2678)\t0.3779644730092272\n",
      "  (1235, 126)\t0.3779644730092272\n",
      "  (1235, 2110)\t0.3779644730092272\n",
      "  (1236, 2371)\t0.6324555320336759\n",
      "  (1236, 2512)\t0.6324555320336759\n",
      "  (1236, 2397)\t0.31622776601683794\n",
      "  (1236, 2919)\t0.31622776601683794\n",
      "  (1237, 2725)\t0.46042233287907564\n",
      "  (1237, 894)\t0.46042233287907564\n",
      "  (1237, 341)\t0.46042233287907564\n",
      "  (1237, 401)\t0.43529278855836245\n",
      "  (1237, 2553)\t0.3827797394459696\n",
      "  (1237, 2774)\t0.16743262960764044\n"
     ]
    }
   ],
   "source": [
    "print(feature_vectors)"
   ]
  },
  {
   "cell_type": "code",
   "execution_count": 16,
   "id": "edb9e604",
   "metadata": {},
   "outputs": [
    {
     "name": "stdout",
     "output_type": "stream",
     "text": [
      "[[1. 0. 0. ... 0. 0. 0.]\n",
      " [0. 1. 0. ... 0. 0. 0.]\n",
      " [0. 0. 1. ... 0. 0. 0.]\n",
      " ...\n",
      " [0. 0. 0. ... 1. 0. 0.]\n",
      " [0. 0. 0. ... 0. 1. 0.]\n",
      " [0. 0. 0. ... 0. 0. 1.]]\n"
     ]
    }
   ],
   "source": [
    "# getting the similarity scores through cosine similarity\n",
    "\n",
    "similarity = cosine_similarity(feature_vectors)\n",
    "print(similarity)"
   ]
  },
  {
   "cell_type": "code",
   "execution_count": 17,
   "id": "91f06ded",
   "metadata": {},
   "outputs": [
    {
     "name": "stdout",
     "output_type": "stream",
     "text": [
      "Songs suggested for you : \n",
      "\n",
      "1 . Breaking the Habit\n",
      "2 . Battle Symphony\n",
      "3 . ROADS UNTRAVELED\n",
      "4 . CASTLE OF GLASS\n",
      "5 . LOST IN THE ECHO\n",
      "6 . Talking to Myself\n",
      "7 . Papercut\n",
      "8 . One Step Closer\n",
      "9 . Heavy (feat. Kiiara)\n",
      "10 . Darkside\n",
      "11 . Rise\n",
      "12 . FRIENDS - R3hab Remix\n",
      "13 . The Middle\n",
      "14 . In My Mind\n",
      "15 . REMEDY\n",
      "16 . Sick Boy\n",
      "17 . We Don't Care\n",
      "18 . Ignite\n",
      "19 . WTF (feat. Amber Van Day)\n",
      "20 . Favela\n",
      "21 . All For Love\n",
      "22 . Forever Young\n",
      "23 . High On Life (feat. Bonn)\n",
      "24 . Sick Boy - Trobi Remix\n",
      "25 . Lullaby\n"
     ]
    }
   ],
   "source": [
    "# without user input also not printing same song in recommendation\n",
    "song_name = 'Numb'\n",
    "\n",
    "list_of_all_titles = df['Track'].tolist()\n",
    "\n",
    "find_close_match = difflib.get_close_matches(song_name, list_of_all_titles)\n",
    "\n",
    "close_match = find_close_match[0]\n",
    "\n",
    "index_of_the_song = df[df.Track == close_match]['Index'].values[0]\n",
    "\n",
    "similarity_score = list(enumerate(similarity[index_of_the_song]))\n",
    "\n",
    "\n",
    "sorted_similar_songs = sorted(similarity_score, key = lambda x:x[1], reverse = True) \n",
    "\n",
    "print('Songs suggested for you : \\n')\n",
    "\n",
    "i = 1\n",
    "\n",
    "for song in sorted_similar_songs:\n",
    "  index = song[0]\n",
    "  title_from_index = df[df.index==index]['Track'].values[0]\n",
    "  if (i<26):\n",
    "    if(title_from_index != song_name):\n",
    "        print(i, '.',title_from_index)\n",
    "        i+=1"
   ]
  },
  {
   "cell_type": "markdown",
   "id": "bae7478a",
   "metadata": {},
   "source": [
    "# Running code with additional information "
   ]
  },
  {
   "cell_type": "code",
   "execution_count": 18,
   "id": "45b04a83",
   "metadata": {},
   "outputs": [
    {
     "name": "stdout",
     "output_type": "stream",
     "text": [
      "song you already heard: Faded\n",
      "Songs suggested for you : \n",
      "\n",
      "1 . Faded - Alan Walker\n",
      "2 . Alone - Alan Walker\n",
      "3 . Faded - Alan Walker\n",
      "4 . Sing Me to Sleep - Alan Walker\n",
      "5 . Lost Control - Alan Walker, Sorana\n",
      "6 . Diamond Heart - Alan Walker, Sophia Somajo\n",
      "7 . I Don't Wanna Go - Alan Walker, Julie Bergan\n",
      "8 . Lily - Alan Walker, K-391, Emelie Hollow\n",
      "9 . On My Way - Alan Walker, Sabrina Carpenter, Farruko\n",
      "10 . Darkside - Alan Walker, Au/Ra, Tomine Harket\n",
      "11 . Time - Alan Walker Remix - Alan Walker, Hans Zimmer\n",
      "12 . Spectre - Alan Walker\n",
      "13 . Fade - Alan Walker\n",
      "14 . The Spectre - Alan Walker\n",
      "15 . The Drum - Alan Walker\n",
      "16 . All Falls Down (feat. Juliander) - Alan Walker, Noah Cyrus, Digital Farm Animals, Juliander\n",
      "17 . In Your Arms (with X Ambassadors) [Alan Walker Remix] - ILLENIUM, X Ambassadors, Alan Walker\n",
      "18 . Sorry - Alan Walker, ISÁK\n",
      "19 . Move Your Body - Alan Walker Remix - Sia, Alan Walker\n",
      "20 . Sing Me to Sleep - Alan Walker\n",
      "21 . Sweet Dreams - Alan Walker, Imanbek\n",
      "22 . Sing Me to Sleep - Instrumental - Alan Walker\n",
      "23 . Stranger Things (feat. OneRepublic) - Alan Walker Remix - Kygo, OneRepublic, Alan Walker\n",
      "24 . Play - K-391, Alan Walker, Tungevaag, Mangoo\n",
      "25 . PS5 (with TOMORROW X TOGETHER & Alan Walker) - salem ilese, TOMORROW X TOGETHER, Alan Walker\n"
     ]
    }
   ],
   "source": [
    "# with user input and artist name along with song name\n",
    "song_name = input('song you already heard: ') # getting the song name from the user\n",
    "\n",
    "list_of_all_titles = df['Track'].tolist() # creating a list with all the song names given in the dataset\n",
    "\n",
    "find_close_match = difflib.get_close_matches(song_name, list_of_all_titles) # finding the close match for the song name given by the user\n",
    "\n",
    "close_match = find_close_match[0]\n",
    "\n",
    "index_of_the_song = df[df.Track == close_match]['Index'].values[0] # finding the index of the song\n",
    "\n",
    "similarity_score = list(enumerate(similarity[index_of_the_song])) # getting a list of similar songs\n",
    "\n",
    "\n",
    "sorted_similar_songs = sorted(similarity_score, key = lambda x:x[1], reverse = True) # sorting the songs based on their similarity score\n",
    "# print the name of similar songs based on the index\n",
    "print('Songs suggested for you : \\n')\n",
    "\n",
    "i = 1\n",
    "\n",
    "for song in sorted_similar_songs:\n",
    "  index = song[0]\n",
    "  title_from_index = df[df.index==index]['Track'].values[0] + \" - \" +df[df.index==index]['Artist'].values[0] # will work even if artist name is removed \n",
    "  if (i<26):\n",
    "    print(i, '.',title_from_index)\n",
    "    i+=1"
   ]
  },
  {
   "cell_type": "markdown",
   "id": "af44b16e",
   "metadata": {},
   "source": [
    "# Same code fo different song"
   ]
  },
  {
   "cell_type": "code",
   "execution_count": 20,
   "id": "748b6e1c",
   "metadata": {},
   "outputs": [
    {
     "name": "stdout",
     "output_type": "stream",
     "text": [
      "song you already heard: Arcade\n",
      "Songs suggested for you : \n",
      "\n",
      "1 . Cradles - Sub Urban\n",
      "2 . Cradles - Sub Urban\n",
      "3 . Darkside - Alan Walker, Au/Ra, Tomine Harket\n",
      "4 . Rise - Jonas Blue, Jack & Jack\n",
      "5 . FRIENDS - R3hab Remix - Marshmello, Anne-Marie, R3HAB\n",
      "6 . The Middle - Zedd, Maren Morris, Grey\n",
      "7 . In My Mind - Dynoro, Gigi D'Agostino\n",
      "8 . REMEDY - Alesso\n",
      "9 . Sick Boy - The Chainsmokers\n",
      "10 . We Don't Care - Sigala, The Vamps\n",
      "11 . Ignite - Alan Walker, Julie Bergan, K-391, SEUNGRI\n",
      "12 . WTF (feat. Amber Van Day) - HUGEL, Amber Van Day\n",
      "13 . Favela - Ina Wroldsen, Alok\n",
      "14 . All For Love - Tungevaag, Raaban, Richard Smitt\n",
      "15 . Forever Young - John De Sohn, LIAMOO\n",
      "16 . High On Life (feat. Bonn) - Martin Garrix, Bonn\n",
      "17 . Sick Boy - Trobi Remix - The Chainsmokers, Trobi\n",
      "18 . Lullaby - R3HAB, Mike Williams\n",
      "19 . Polaroid - Jonas Blue, Liam Payne, Lennon Stella\n",
      "20 . Right Now - Nick Jonas, Robin Schulz\n",
      "21 . Solo (feat. Demi Lovato) - Wideboys Remix - Clean Bandit, Demi Lovato, Wideboys\n",
      "22 . Whenever (feat. Conor Maynard) - Kris Kross Amsterdam, The Boy Next Door, Conor Maynard\n",
      "23 . Like I Do - David Guetta, Martin Garrix, Brooks\n",
      "24 . Blah Blah Blah - Armin van Buuren\n",
      "25 . Ocean - Alok, Zeeba, iRO\n"
     ]
    }
   ],
   "source": [
    "#with user input and artist name along with song name\n",
    "song_name = input('song you already heard: ') # getting the song name from the user\n",
    "\n",
    "list_of_all_titles = df['Track'].tolist() # creating a list with all the song names given in the dataset\n",
    "\n",
    "find_close_match = difflib.get_close_matches(song_name, list_of_all_titles) # finding the close match for the song name given by the user\n",
    "\n",
    "close_match = find_close_match[0]\n",
    "\n",
    "index_of_the_song = df[df.Track == close_match]['Index'].values[0] # finding the index of the song\n",
    "\n",
    "similarity_score = list(enumerate(similarity[index_of_the_song])) # getting a list of similar songs\n",
    "\n",
    "\n",
    "sorted_similar_songs = sorted(similarity_score, key = lambda x:x[1], reverse = True) # sorting the songs based on their similarity score\n",
    "# print the name of similaHr songs based on the index\n",
    "print('Songs suggested for you : \\n')\n",
    "\n",
    "i = 1\n",
    "\n",
    "for song in sorted_similar_songs:\n",
    "  index = song[0]\n",
    "  title_from_index = df[df.index==index]['Track'].values[0] + \" - \" +df[df.index==index]['Artist'].values[0] # will work even  if artist name is removed \n",
    "  if (i<26):\n",
    "    print(i, '.',title_from_index)\n",
    "    i+=1"
   ]
  },
  {
   "cell_type": "markdown",
   "id": "341dbc45",
   "metadata": {},
   "source": [
    "# Running the same code step by step"
   ]
  },
  {
   "cell_type": "code",
   "execution_count": 21,
   "id": "209ac436",
   "metadata": {},
   "outputs": [
    {
     "name": "stdout",
     "output_type": "stream",
     "text": [
      " Enter song name : Happier\n"
     ]
    }
   ],
   "source": [
    "song_name = input(' Enter song name : ')"
   ]
  },
  {
   "cell_type": "code",
   "execution_count": 22,
   "id": "f06e8bd0",
   "metadata": {},
   "outputs": [
    {
     "name": "stdout",
     "output_type": "stream",
     "text": [
      "['Darkside', 'Rise', 'FRIENDS - R3hab Remix', 'The Middle', 'In My Mind', 'REMEDY', 'Sick Boy', \"We Don't Care\", 'Ignite', 'WTF (feat. Amber Van Day)', 'Favela', 'All For Love', 'Forever Young', 'High On Life (feat. Bonn)', 'Sick Boy - Trobi Remix', 'Lullaby', 'Polaroid', 'Right Now', 'Solo (feat. Demi Lovato) - Wideboys Remix', 'Whenever (feat. Conor Maynard)', 'Like I Do', 'Blah Blah Blah', 'Ocean', 'Burn Out (feat. Dewain Whitmore)', 'Mama (feat. Ellie Goulding) - Tiësto’s Big Room Remix', 'Sing Me to Sleep', 'Hot2Touch', 'Glad You Came', 'Jackie Chan', 'Tie Me Down (with Elley Duhé)', 'Diamond Heart', 'Only You (with Little Mix)', 'One Kiss (with Dua Lipa)', 'Happy Now', 'Everybody Hates Me', 'Ring Ring (feat. Mabel & Rich The Kid)', 'Where Have You Gone (Anywhere)', 'Your Love', 'Fly', 'Be Your Friend\\u202c\\u202c', 'Magenta Riddim', 'BOOM', 'Azukita (Steve Aoki, Daddy Yankee, Play-N-Skillz & Elvis Crespo) (feat. Elvis Crespo)', 'Born To Be Yours', 'Speechless (feat. Erika Sirola)', 'Moonlight', 'Just Got Paid', 'Fading', 'This Feeling (feat. Kelsea Ballerini) - Afrojack & Disto Remix', 'Without Me - ILLENIUM Remix', 'IDGAF - Hazers Remix', 'These Days (feat. Jess Glynne, Macklemore & Dan Caplen) - AJR Remix', 'Crab Rave', 'Drink About', 'Ocean (feat. Khalid) - David Guetta Remix', 'Bella ciao - Hugel Remix', 'Melody (feat. James Blunt)', 'Flames - Pink Panda Remix', 'Side Effects - Fedde Le Grand Remix', 'We Can Do Better - NEW_ID Remix', 'Just For A Moment (feat. Iselin)', 'Lullaby', 'I Wanna Know (feat. Bea Miller)', 'Promises (with Sam Smith)', 'Thunderclouds - Lost Frequencies Remix', 'Answerphone (feat. Yxng Bane)', 'Love No More', 'California', 'Back To You - Joey Pecoraro Remix', 'Remind Me to Forget', 'Play', 'So Close', 'Remember (with ZOHARA)', 'H.O.L.Y.', 'Miss You - Major Lazer & Alvaro Remix', 'Electricity (with Dua Lipa)', 'Dancing Alone', 'Back & Forth', 'Delicate - Seeb Remix', 'Creep On Me (feat. French Montana & DJ Snake) - QUIX Remix', 'Baila Conmigo (feat. Kelly Ruiz)', 'Dancing In The Moonlight (feat. NEIMY)', 'Lie - Le Youth Remix', 'Grapevine', 'Fake ID', 'Dancing On My Own - Tiësto Remix', 'Losing It', 'Just Friends', 'Better Not (with Wafia)', 'Turn off the Lights', 'Blind Heart - Mix Cut', 'Fly Away', 'One by One', 'Voices (feat. TZAR)', 'Sorry', 'Courtesy Call', 'Hero', 'War of Change', 'Untraveled Road', 'Blue Eyed Demon', 'On & On', 'Blank', 'One Step Away', 'Hymn for the Weekend', 'Heathens', 'Ocean (feat. Khalid)', 'Blinding Lights', 'Bilionera - Radio Edit', 'R.I.P. (feat. Rita Ora & Anitta)', 'Carry On (from the Original Motion Picture \"POKÉMON Detective Pikachu\")', 'Perfect', 'Shape of You', \"I Don't Care (with Justin Bieber)\", 'Heroes Tonight', 'Fearless Pt. II', 'Black Magic (feat. Skylar Grey)', '24K Magic', 'Tokyo', 'Blue', 'Legends Never Die', 'Diamonds', 'Fire', 'lovely (with Khalid)', 'Love Me Like You Do - From \"Fifty Shades Of Grey\"', 'Impossible', 'Who Do You Love', 'Attention', 'Starboy', 'Take on the World', 'Paris (feat. Cris Cab)', 'Let Me Love You', 'Home (feat. Bonn)', 'Dusk Till Dawn (feat. Sia) - Radio Edit', 'SOS (feat. Aloe Blacc)', 'Closer', 'The Hills', 'In the Name of Love', 'Animals', 'Rockabye (feat. Sean Paul & Anne-Marie)', 'The Nights', 'See You Again (feat. Charlie Puth)', 'Counting Stars', 'Cold Water (feat. Justin Bieber & MØ)', 'We Own It (Fast & Furious)', 'SOS', 'Arcade (feat. FLETCHER)', \"fuck, i'm lonely (with Anne-Marie)\", 'Watermelon Sugar', 'Wolves', 'Greenlight (feat. Flo Rida & LunchMoney Lewis)', '2002', 'Sunflower - Spider-Man: Into the Spider-Verse', 'Sugar', 'Rule the World', 'Waka Waka (This Time for Africa) [The Official 2010 FIFA World Cup (TM) Song] (feat. Freshlyground)', 'Come See the Wonder', 'Love You So Bad', 'Venom - Music From The Motion Picture', 'Heavy (feat. Kiiara)', 'ROADS UNTRAVELED', 'New Rules', 'FRIENDS', 'Happier', 'Stitches', 'Treat You Better', 'Drag Me Down', 'Something Just Like This', 'Thunder', 'All Falls Down (feat. Juliander)', \"We Don't Talk Anymore (feat. Selena Gomez) - DROELOE Remix\", 'Girls Like You (feat. Cardi B) - Cardi B Version', \"I'm a Mess\", 'Sweet but Psycho', 'STAY (with Justin Bieber)', 'Scared to Be Lonely', 'Paris', 'High Hopes', '2U (feat. Justin Bieber)', 'Lost In Sound VIP', 'Tokyo Drift', 'Audio (feat. Sia, Diplo, and Labrinth)', 'Eastside (with Halsey & Khalid)', \"Don't Start Now\", 'Moves Like Jagger', 'Faded', 'F.F.F. (feat. G-Eazy)', 'Good Life (with G-Eazy & Kehlani)', 'Mad Love', 'No Lie', 'Mi Gente', 'Numb', 'Battle Symphony', 'LOST IN THE ECHO', 'CASTLE OF GLASS', 'Papercut', 'One Step Closer', 'Breaking the Habit', 'Scream', 'Feel Invincible', 'Summer Days (feat. Macklemore & Patrick Stump of Fall Out Boy)', 'Lost In Japan - Remix', 'Swan Song - From the Motion Picture \"Alita: Battle Angel\"', 'Talking to Myself', 'ROXANNE', 'Flames', 'Radioactive', 'The Bomb Dot Com V2.0', 'Say My Name', 'Piece Of Your Heart', 'Sorry', 'Levitating (feat. DaBaby)', 'Drowning', \"love nwantiti (feat. Dj Yo! & AX'EL) - Remix\", 'Into Your Arms (feat. Ava Max)', \"I'm an Albatraoz\", 'INDUSTRY BABY (feat. Jack Harlow)', 'Here', 'Havana (feat. Young Thug)', 'Demons', 'This Is Gonna Hurt', 'No Broken Hearts (feat. Nicki Minaj)', 'What Makes You Beautiful', 'Unstoppable', 'Back to You (feat. Bebe Rexha & Digital Farm Animals)', 'Swalla (feat. Nicki Minaj & Ty Dolla $ign)', 'Memories', 'Body - Dzeko Remix', \"I'll Live On\", 'Black Magic', 'Miss You', 'Your Song - Cheat Codes Remix', 'Lose Control', 'Jalebi Baby (Tesher x Jason Derulo)', 'Feel Good (feat. Daya)', \"I Just Can't\", 'There For You - Madison Mars Remix', 'Bad boy', 'Sky High', 'Willow Tree', 'Chemical Bond', 'Rise Up (feat. Vamero)', 'SICKO MODE', 'Goosebumps', 'Paradise (feat. Dermot Kennedy)', 'Pompeii', 'Ainsi bas la vida', 'Go Crazy', 'Take My Breath Away', 'You Right', 'Here With Me', 'One Dance', 'Heat Waves', 'One Right Now (with The Weeknd)', 'Followers', 'Remember', 'Hey Mama (feat. Nicki Minaj, Bebe Rexha & Afrojack)', 'Legends Never Die - (Remix)', 'Thrift Shop (feat. Wanz)', 'Sweet Dreams (Are Made of This) - Remastered', 'Die For You', 'I Got You', 'Boyfriend', 'House On Fire', 'My Universe', 'High', 'Infinity', 'Love Me Again', 'Water', 'Blow Your Mind', 'Loser', 'Perfect', 'Don’t Wake Me Up', 'Symphony (feat. Zara Larsson)', 'MIDDLE OF THE NIGHT', 'Should I', 'bad vibes forever', 'Everybody Dies In Their Nightmares', 'Wait a Minute!', 'Potion (with Dua Lipa & Young Thug)', 'Late Night Talking', 'Jiggle Jiggle', 'Cooped Up (with Roddy Ricch)', 'As It Was', 'One Life', 'True Love', 'STAY (with Justin Bieber)', 'Love Me Back (Fayahh Beat)', 'I Just Called', 'All I Need', 'Hold My Hand', 'WAIT FOR U (feat. Drake & Tems)', 'N95', 'Peaches (feat. Daniel Caesar & Giveon)', 'Toxic', 'First Class', 'Honest (feat. Don Toliver)', 'Let Me Down Slowly', 'Bam Bam (feat. Ed Sheeran)', 'Light Switch', 'Voodoo (with J Balvin & Tainy)', 'Vegas (From the Original Motion Picture Soundtrack ELVIS)', '2step (feat. Lil Baby)', 'Toxic', 'Woman', 'THATS WHAT I WANT', \"That's Hilarious\", 'The Drum', 'Thousand Miles', 'Ayo Girl (Fayahh Beat) [feat. Rema]', 'Ghost', 'SAD GIRLZ LUV MONEY Remix (feat. Kali Uchis and Moliy)', \"Beggin'\", 'Enemy (with JID) - from the series Arcane League of Legends', 'MONTERO (Call Me By Your Name)', 'Levitating', 'Harleys In Hawaii', 'MONEY', 'Get Into It (Yuh)', 'Dandelions', 'good 4 u', 'MONTERO (Call Me By Your Name)', 'Kiss Me More (feat. SZA)', '34+35', 'MONEY', 'drivers license', 'Leave The Door Open', 'Astronaut In The Ocean', 'Save Your Tears (with Ariana Grande) (Remix)', 'Bad Habits', 'telepatía', 'Good Days', 'INDUSTRY BABY (feat. Jack Harlow)', 'Butter', 'Easy On Me', 'Happier Than Ever', 'Heartbreak Anniversary', 'deja vu', 'Up', 'Build a Bitch', 'Todo De Ti', 'positions', \"All Too Well (10 Minute Version) (Taylor's Version) (From The Vault)\", 'Shivers', 'Streets', 'Anyone', 'Solar Power', 'Shivers', 'WITHOUT YOU (with Miley Cyrus)', 'Calling My Phone', 'Girls Want Girls (with Lil Baby)', 'Baila Conmigo (with Rauw Alejandro)', 'love nwantiti (ah ah ah)', \"We're Good\", 'DÁKITI', 'willow', 'Mood (feat. iann dior)', 'BICHOTA', 'Hold On', 'Love Story (Taylor’s Version)', 'Whoopty', 'Bandido', 'Afterglow', 'GIRL LIKE ME', 'Prisoner (feat. Dua Lipa)', 'LA NOCHE DE ANOCHE', 'Beautiful Mistakes (feat. Megan Thee Stallion)', 'Therefore I Am', 'test drive', 'The Business', 'Lemonade', 'Lost Cause', 'Selfish Love (with Selena Gomez)', 'What You Know Bout Love', 'Dynamite', 'Head & Heart (feat. MNEK)', 'Save Your Tears', 'Body', 'Best Friend (feat. Doja Cat)', '34+35 Remix (feat. Doja Cat, Megan Thee Stallion) - Remix', 'What’s Next', 'On The Ground', 'As I Am (feat. Khalid)', 'Met Him Last Night (feat. Ariana Grande)', 'pov', 'm y . l i f e (with 21 Savage & Morray)', 'Your Power', 'Yonaguni', 'Need to Know', 'You Right', 'I WANNA BE YOUR SLAVE', 'Permission to Dance', 'Motley Crew', 'Fair Trade (with Travis Scott)', 'Need to Know', 'Hurricane', 'Pepas', 'Rumors (feat. Cardi B)', 'Skate', 't r a n s p a r e n t s o u l feat. Travis Barker', 'Cold Heart - PNAU Remix', 'Leave Before You Love Me (with Jonas Brothers)', 'Girl From Rio', 'Summer of Love (Shawn Mendes & Tainy)', 'Meet Me At Our Spot', 'Life Goes On', 'Dick (feat. Doja Cat)', 'WITHOUT YOU', 'Praise God', 'Dance Monkey', 'rockstar', 'Someone You Loved', 'One Dance', 'Señorita', 'Believer', 'bad guy', '10 Things I Hate About You', \"Say You Won't Let Go\", 'Brain Dead', 'Thinking out Loud', 'Lucid Dreams', 'No Handoutz (feat. Yeat)', 'The Old Me', 'The Intro', \"God's Plan\", 'GO!', \"THEY DON'T KNOW\", \"Don't Start Now\", 'Cosmic Bitches', 'Frank Pepe', 'Photograph', 'Stare In The Abyss', 'SAD!', 'Rheez. - Ptsd', 'Starboy', 'Bohemian Rhapsody - Remastered 2011', 'Shallow', 'Voodoo You', 'Love Yourself', 'All of Me', 'Hard 2 Love', 'Take Me To Church', 'Circles', 'Thunder', '7 rings', 'Jocelyn Flores', 'goosebumps', 'XO Tour Llif3', 'New Rules', 'Stressed Out', 'HUMBLE.', 'Lean On (feat. MØ & DJ Snake)', 'Sorry', 'Let Her Go', 'Better Now', 'Roses - Imanbek Remix', 'Let Me Love You', 'Faded', 'Wake Me Up - Radio Edit', \"Don't Let Me Down\", 'Congratulations', 'Counting Stars', 'Despacito - Remix', 'I Took A Pill In Ibiza - Seeb Remix', 'Stay With Me', 'Treat You Better', \"I Don't Care (with Justin Bieber)\", 'Riptide', 'Heat Waves', 'thank u, next', 'Without Me (with Juice WRLD)', 'Uptown Funk (feat. Bruno Mars)', 'The Hills', \"Can't Hold Us (feat. Ray Dalton)\", 'Too Good At Goodbyes', 'Younger', 'Unforgettable', 'The Box', 'Stitches', 'Memories', 'Moonlight', 'Cheap Thrills', 'Demons', 'Mr. Brightside', 'good 4 u', '7 Years', 'Wonderwall - Remastered', 'I Like Me Better', 'See You Again (feat. Charlie Puth)', 'Youngblood', 'I Fall Apart', 'Dynamite', \"when the party's over\", \"There's Nothing Holdin' Me Back\", 'As It Was', 'Me Porto Bonito', 'Ojitos Lindos', 'Tití Me Preguntó', 'Moscow Mule', 'Party', 'PROVENZA', 'About Damn Time', 'First Class', 'Heat Waves', 'Efecto', 'Matilda', 'Music For a Sushi Restaurant', 'Bam Bam (feat. Ed Sheeran)', 'Después de la Playa', 'Daylight', 'Tarot', 'Cold Heart - PNAU Remix', 'Little Freak', 'Un Ratito', 'Una Noche en Medellín', 'MAMIII', 'Grapejuice', 'Enemy (with JID) - from the series Arcane League of Legends', 'Satellite', 'Ghost', 'Cinema', 'Love Of My Life', 'Desesperados', 'Yo No Soy Celoso', 'Shivers', 'Daydreaming', 'Envolver', 'Keep Driving', 'Neverita', 'Where Are You Now', 'Me Fui de Vacaciones', 'ACORDA PEDRINHO', 'Jordan', 'La Corriente', 'Until I Found You', 'The Karma Theme - Telugu (From \"U Turn\")', 'Comrade Anthem', 'Aaluma Doluma', 'Daakko Daakko Meka', 'Purple Lamborghini', 'Cradles', 'Sacrifice', 'Often', 'Shameless', 'Gasoline', 'Best Friends', 'How Do I Make You Love Me?', 'Take My Breath', 'Samajavaragamana', 'Buttabomma - Telugu', 'Maate Vinadhuga', 'Undiporaadhey', 'Hoyna Hoyna (From \"Gang Leader\")', 'Uppenantha', 'Ramuloo Ramulaa - Duet', 'OMG Daddy - Telugu', 'Maguva Maguva - Telugu', 'Vellipomaake', 'Gaali Vaaluga', 'Sittharala Sirapadu', 'Anaganaganaga', 'Baitikochi Chuste', 'My Love Is Gone', 'Laila O Lailaa', 'Seethakaalam', 'Oy..Oy..', 'Mr. Perfect', 'Crazy Feeling', 'Choosa Choosa', 'Panjaa', 'Idhedho Bagundhe', 'Sehri..Sehari', 'Down Down Duppa', 'Chal Chalo Chalo', 'Swing Zara', 'Rangamma Mangamma (From \"Rangasthalam\")', 'Come To The Party', 'Bhoochadae', 'Yentha Sakkagunnave (From \"Rangasthalam\")', 'Pranaamam (From \"Janatha Garage\")', 'O Madhu', 'Jayaho Janatha', 'Lachhamma', 'Next Enti', 'Inumulo O Hrudayam', 'Bheemla Nayak Title Song', 'Pilla Chao', 'Junction Lo', 'Oka Praanam', 'Sivuni Aana', 'Mamatala Talli', 'Dandaalayyaa (From \"Baahubali 2 - The Conclusion\")', 'Time To Party', 'Ala Vaikunthapurramuloo', 'Who R U', 'Chalore Chalore(Telugu)', 'Bang Bang Bangkok', 'Oo Antava Oo Oo Antava', 'Srivalli', 'Peniviti', 'Hello Rammante', 'AB Yevaro Nee Baby', 'Rooba Rooba', 'Pakka Local (From \"Janatha Garage\")', 'Jalsa Jalsa', 'Dole Dole', 'Manohari', 'Raavana (From \"Jai Lava Kusa\")', 'Kalaavathi', 'Hulala', 'Guruvaram', 'If You Want Love', 'Wrecked', 'Make You Mine', 'Wishing Well', 'Tose Naina', \"Day 'N' Nite (Nightmare)\", 'Insane', 'Way Back Home (feat. Conor Maynard) - Sam Feldt Edit', 'Cigarettes', 'Wandered To LA (with Justin Bieber)', \"Don't Worry (with Ray Dalton) - Radio Edit\", 'Atak Gaya - Arijit Singh', 'At My Worst', 'Puttene Prema', 'Am I Wrong', 'Intro (Infected)', 'Sirivennela', 'No Guidance (feat. Drake)', 'Leharaayi', 'Unstoppable', \"Beggin' - Remix\", 'High School', 'Eshay', 'Kasoor (From \"Dhamaka\") - Acoustic', 'Jugnu', 'Shershaah Mashup', 'hot girl bummer', 'Raanjhanaa', 'Chup Chup Ke', 'Alizeh', 'O Mere Dil Ke Chain', 'Higher Ground (feat. John Martin)', 'Hope', 'Fed Up', 'Goosebumps - Remix', 'Да да да - Jarico Remix', 'Where Are Ü Now (with Justin Bieber)', 'Quit Pannuda', 'Rendu Kaadhal (From \"Kaathuvaakula Rendu Kaadhal\")', \"Can't Let You Go\", 'Kabira', 'Main Rang Sharbaton Ka (From \"Phata Poster Nikhla Hero\")', \"It's You\", 'Hold On', 'Channa Mereya', 'Wildest Dreams', 'Scars To Your Beautiful', 'Vaaram', 'Moonlight', 'Kids', 'Without Me', 'Peddha Peddha Kallathoti', 'Umbrella', 'Vaathi Raid', 'Rescue Me', 'Agar Tum Saath Ho', 'Chellamma (From \"Doctor\")', 'Mirchi', 'Humdard', 'The Spectre', 'Alone', 'Lily', 'Sky', 'Triplet - Instrumental Mix', 'On My Way', 'Summertime', 'Dreamer', 'The Only Way Is Up', 'Unity', 'Astronomia', 'Bella Ciao - Mix Cut', 'Alone', 'Masked Raver', 'Pizza', 'Lost Control', 'Diamond Heart', 'Hellcat', 'Beautiful Now', 'Lullaby', 'Wake Me Up', 'Turn Down for What', 'Turn This Club Around - Mike Candys Rework Edit', 'House Party - Radio Edit', 'Fade', 'Spectre', 'More Than You Know', 'Sing Me to Sleep - Instrumental', 'Firefly', 'Limitless', 'Red Lights', 'Reload - Radio Edit', 'Titan - Original Mix', 'New Memories', 'Are You Lonely', 'End Of The World', 'I Should Have Walked Away', 'OK', 'One More Chance', 'Harmony - Mix Cut', \"Sleep When We're Dead - Video Edit\", 'Symphony', 'Mayhem', 'Nothing Stopping Me (feat. Kat Nestel)', 'Everything', 'Puzzle', 'Being Alive', 'Midnight Sun', 'Calling (Lose My Mind) - Radio Edit', 'Gizmo', 'Feel Good', 'Someone Like You', 'Solo Dance', 'Just Hold On', 'Nevada', \"How You've Been\", 'Rescue Me', 'Instagram', 'Powermove', 'Sun Is Shining', 'FLAGS!', 'Get Low', 'Wait', 'Moshi Moshi (feat. Mama Aoki)', 'Payback', 'Play', 'Mama', 'Titanium (feat. Sia)', 'Perfect Strangers', 'Stay', 'Hey Brother', 'Silence', 'Ma Chérie - DJ Antoine & Mad Mark 2K12 Radio Edit', 'Stamp on the Ground - Radio Edit', 'Diamonds', 'Dear Life - Radio Edit', 'HIGHEST IN THE ROOM', 'Happy Now', 'China', 'Used To Love (with Dean Lewis)', 'Limbo', 'Crest', 'Burn It Down', 'Talk To Myself', 'All Around The World (La La La)', 'All Comes Back To You', 'Inspiration', 'Easier - Seeb Remix', 'All Night Long', 'Shine', \"I'm Not Sorry\", 'Ups & Downs', 'Open Up', \"Somebody I'm Not\", 'These Are The Times (feat. JRM)', 'Tired - Kygo Remix', 'Friday Night\\u202c\\u202c\\u202c', 'Fiesta Loca', 'Oceanside', 'Avem (The Aviation Theme)', \"Don't Give Up On Me Now - MOTi & Terry McLove Remix\", \"I'll Be Here For You\", 'Wanted', '365', 'Rumors - Tommy Jayden & Kovan Remix', 'The Same Way', 'Down', 'I Like Me Better', 'Spotless', 'Electro House', 'Fight Song', 'Area', 'Taste The Feeling (Avicii Vs. Conrad Sewell)', 'Capsize', 'Alone, Pt. II', 'Cross My Heart', 'One', 'Where We Started', 'Rave', 'Falling', 'Mean It', 'Live Fast - PUBGM', \"Don't Look Down (feat. Usher)\", 'Go To War', 'Never Gonna Catch Me', 'I Got Eyes (feat. TILI)', \"Don't Worry Bout Me - Diamond Pistols Remix\", 'Young', 'What I Like About You (feat. Theresa Rex)', 'Heaven', 'All You Need To Know (feat. Calle Lehmann)', 'Without You (feat. Sandro Cavazza)', 'On Replay', 'You Want More', 'To Rome - Calvo Remix', 'Beautiful Creatures (feat. MAX)', 'Jackpot', 'Unity', 'More Than OK (with Clara Mae)', 'Flames (with ZAYN)', 'Wildest Dream', 'All This Time', 'Forever Yours - Avicii Tribute', 'Find U Again (feat. Camila Cabello)', 'Ride It', 'Family', 'Heaven', '4U', 'Redline (SKUM Remix)', 'Que Calor (feat. J Balvin & El Alfa)', 'Better with You', 'Lost with You', 'Barefoot and Bruised', 'Supernova', '911', 'Take Me There', 'End of Time', 'Strings Again', 'In Your Arms (with X Ambassadors) [Alan Walker Remix]', 'Fighter - Mazza & Tenashar Remix', 'Never Felt A Love Like This (feat. Dotan) - Raven & Kreyn Remix', 'Gold (feat. Graham Candy)', 'Close Your Eyes', 'Drown (feat. Clinton Kane)', 'Momentum - Michael Calfan Remix', 'Apologize', 'Rythm Of The Night', 'Meant To Be', 'Elise', \"Freewheelin'\", 'Bangarang (feat. Sirah)', 'Never Gonna Give You Up', 'Time - Alan Walker Remix', 'Castle', 'Alibi', 'Summersong 2018', 'Last Summer', 'Seasons', 'Animals', 'Such a Whore (Instrumental)', 'No Friends', 'Space Melody (Edward Artemyev) (feat. Leony)', \"I Don't Wanna Go\", 'MAYDAY', 'Sorry', 'Fake A Smile', 'Auto', 'Subaru', 'Five More Hours', 'Snake Whisperer', 'Single Ladies (feat. J-Son) - Remady 2K13 Radio Edit', 'Sweet Dreams', 'Waiting', 'The River', 'Keep You Mine', 'Million Miles', '4U', 'Red Lights', 'On My Way', 'Frisbee', 'Lost', 'Keep On Loving', 'VILLAIN', 'That Good Ship', 'Light It Up', 'Walk Thru Fire', 'Shelter', 'Complicated (feat. Kiiara)', 'Moving On', 'Linked', 'Why Do I?', 'Make Me Move', 'Phoenix', 'Summer Air', 'Wait Another Day', 'Crazy', 'No Money (Remix)', 'Name Tag', 'Leyla', 'All Alone', 'Better', 'Coming Home', 'Shadows', 'Turn It Up (COE Remix)', 'Our Story - Radio Edit', \"Better When You're Gone\", 'Ritual', 'Body Back (feat. Maia Wright)', 'Heaven (feat. Veronica)', 'Move Your Body - Alan Walker Remix', 'Waiting For Love', 'Outside', \"Don't You Hold Me Down\", 'Glitch', 'Monster - Robin Schulz Remix', 'Break Through', 'Sweet Escape', 'Hiding In The Blue', 'See U', 'Satellite Love', 'No One Compares To You', 'On My Own', 'Mysterious Girl', 'Soldier', 'Breathe', 'I Need More of You', 'Stranger Things (feat. OneRepublic) - Alan Walker Remix', 'Failure Girl (EDM Arrange)', 'End Of The Night', 'Turn Back Time', 'Do It To It', 'Fire', 'Fight for This', 'Home', 'Stronger', 'Outerspace', 'Taki Taki (with Selena Gomez, Ozuna & Cardi B)', 'Miss Wanna Die', 'Arms of Gold', 'Alternate Realities pt. I', 'Mr. Saxobeat', 'Before U', 'Limitless', 'Beast', 'Purple Lamborghini (with Rick Ross)', 'Not Afraid', 'Bad Boy (feat. Luana Kiara)', 'Trampoline - Jauz Remix', 'Bre Petrunko', 'Payphone', 'Radioactive', 'Panda', 'Angetenar', 'In Da Getto', 'In Da Club', 'Candy Shop', 'Smack That', 'Play Hard (feat. Ne-Yo & Akon)', 'Turn Me On (feat. Nicki Minaj)', 'Believer', \"This One's for You (feat. Zara Larsson) (Official Song UEFA EURO 2016)\", 'Cigarettes', 'Sparta (Drill Remix)', \"Life Ain't Fair, Higher Quality\", 'Skrilla Remix', 'Положение (2 Remix)', 'Legends Are Made', 'Resurrection', 'Lovely', 'Clash (feat. Stormzy)', 'WIN', 'Way down We Go', 'Hold Strong', 'Go Hard, Go Home (feat. Giz, Swellz & Choppa)', 'Hungry', 'Smoking Gun', 'Run This', 'Plan My Attack', 'Still D.R.E.', 'Right Now (Na Na Na)', 'Capital Letters', 'Sucker for Pain (with Wiz Khalifa, Imagine Dragons, Logic & Ty Dolla $ign feat. X Ambassadors)', 'Old Town Road - Remix', 'rockstar (feat. 21 Savage)', 'HUMBLE.', 'ROCKSTAR (feat. Roddy Ricch)', 'Fight Back', 'Venom - Music From The Motion Picture', 'On my mind - Remix', 'Narcos', 'Tuyo (Narcos Theme) - A Netflix Original Series Soundtrack', 'The Plan - From the Motion Picture \"TENET\"', \"Can't Be Touched (feat. Mr. Magic & Trouble)\", 'Mask Off - Marshmello Remix', 'Peaky Blinder', 'The Search', 'All The Way Up', 'Infinity', 'On My Way', 'Love The Way You Lie', 'HUMBLE. - SKRILLEX REMIX', 'Lonely', 'Just A Lil Bit', 'Whatever It Takes', 'Goodbye - Theme from Dark, a Netflix Original Series', \"Wavin' Flag - Coca-Cola® Celebration Mix\", 'Lose Yourself - From \"8 Mile\" Soundtrack', 'What I Live For', 'Go Forever', 'San Andreas', 'Young, Wild & Free (feat. Bruno Mars)', 'Outta Control', 'Tokyo Drift (Fast & Furious) - From \"The Fast And The Furious: Tokyo Drift\" Soundtrack', 'The Next Episode', 'Shake That (Remix)', 'P.I.M.P. - Snoop Dogg Remix', 'Go Home', 'Roar', 'Billie Jean', 'Runaway', 'Something Just Like This', 'When I Grow Up (feat. Wiz Khalifa)', 'Bang Bang', 'Dangerous', 'Dangerous (feat. Sam Martin)', 'Talk Dirty (feat. 2 Chainz)', 'Low (feat. T-Pain)', 'Loyal (feat. Lil Wayne & Tyga)', \"God's Plan\", 'Boulevard of Broken Dreams', 'This Is What You Came For (feat. Rihanna)', 'Whoopty', 'Valhalla Calling - Duet Version', 'Move Slow', 'Barricade - Radio Edit', 'Barricade - Club Mix', 'In The End - Mellen Gi Remix', 'Umbrella - The White Panda Remix', 'I Work Hard', 'War', 'Legend', 'Hall of Fame (feat. will.i.am)', 'Safari', 'Shower', 'Stereo Hearts (feat. Adam Levine)', 'Despacito', 'Let Me Love You', 'Let Her Go', 'CAN\\'T STOP THE FEELING! (from DreamWorks Animation\\'s \"TROLLS\")', 'A Thousand Years (From \"The Twilight Saga: Breaking Dawn - Part 1\")', 'Solo (Workout Dance Remix)', 'Chandelier', 'Spirits', \"There's Nothing Holdin' Me Back\", 'Photograph', 'Animals', 'Me And My Broken Heart', 'I Took A Pill In Ibiza - Seeb Remix', 'Firestone', 'Thunder', 'Havana (feat. Young Thug)', 'rockstar', 'Rolling in the Deep', 'Feels (feat. Pharrell Williams, Katy Perry & Big Sean)', 'There for You', 'A Different Way (with Lauv)', 'Carnival of Rust', 'Riptide - Vance Joy', \"It Ain't Me (with Selena Gomez)\", 'All We Know', 'Cold Water', 'Sing Me to Sleep', 'Heathens', 'I Don’t Wanna Live Forever (Fifty Shades Darker)', 'September Song', 'Die Young (feat. 347aidan)', 'Mood (feat. iann dior)', 'PS5 (with TOMORROW X TOGETHER & Alan Walker)', 'MVP', 'Coco (feat. DaBaby)', 'See Me Fall - Y2K Remix', 'Toxic', 'Astronaut In The Ocean - Alok Remix', 'Shakira!', 'Glad U Came (feat. ZieZie)', 'Coming for You (feat. A1 x J1)', 'No Time (feat. Lil Durk)', 'BM (London View)', 'Dancin - Krono Remix', 'Blueberry Faygo', 'Your Love (9PM)', 'Bones', 'Going Dumb', 'Cradles', 'Last One Standing (feat. Polo G, Mozzy & Eminem) - From Venom: Let There Be Carnage', 'Goodbye', 'Royalty - Wiguez & Alltair Remix', 'Blood // Water', 'IDGAF (with blackbear)', 'Love Again - Imanbek Remix', 'The Search', 'Hallucination', 'Come & Go (with Marshmello)', 'In My Head', 'Godzilla (feat. Juice WRLD)', 'What You Know Bout Love', 'Pain', 'First Time', 'Living Life, In The Night', 'Till The End - Jonas Blue & Sam Feldt Present Endless Summer', 'Better Days (NEIKED x Mae Muller x Polo G)', 'Roses - Imanbek Remix', 'Dancing Feet (feat. DNCE)', 'Chanel Bag', 'Rampage (Free Fire Rampage Theme Song)', 'Moth To A Flame (with The Weeknd)', 'Options (feat. 24kGoldn)', 'Stay With Me', 'Close Eyes', 'Run It Up', 'Savage', 'Devil', 'Run It (feat. Rick Ross & Rich Brian)', '2055', 'Motley Crew', 'You', 'RAPSTAR', 'XO Tour Llif3', 'Spicy (feat. Post Malone)', 'Ferrari', 'Fighter', 'Our Time', 'Go!', 'Move Your Body', 'GTA 2', 'MEMORIES!', 'Sicko Drop', 'Immortal', 'Loading', 'Frozen', 'Space Cadet (feat. Gunna)', 'DIVE IN!', 'Set It Off', 'The Best Part of Life (Imanbek Remix)', 'F.N', \"Till I'm Free\", 'TOKYO DRIFT', 'V12 (feat. Lil Uzi Vert)', 'UCLA', 'Martin & Gina', 'Tell Em', 'Playground (from the series Arcane League of Legends)', 'INCOMING', 'Because You Move Me', 'Story Of My Life (feat. Trippie Redd)', 'No Return (with The Kid LAROI & Lil Durk)', 'Wolves (feat. Post Malone)', 'CHXSE', 'Rocking A Cardigan in Atlanta', 'Dua Lipa', 'Scary Garry', '20 Min', 'Let You Go', 'Weightless', 'The Wider Sun', 'Catalina 1943', 'Theme', 'Radiant City', 'Weightless Part 6', 'For Years and Years', 'Abandon Window', 'Girth Rides A (Horse) +', 'Sturgeon Bank', 'Flicker', 'Sense', 'Prelude', 'Little Rays', 'Beneath The Ivy', 'Radiant', 'A Drifting Down', 'Under The Glow', 'Seeing Stars', 'Slowtide', 'Laguna', 'These European Cities', 'History', 'Elm', 'Debris', 'Articulate Silences, Pt. 1', 'Claroscuro', 'Blue Collar Parade', 'Luna', 'Articulate Silences, Pt. 2', 'Several Tries (In an Unelevated Style)', 'Autumn Round', 'Weightless Part 5', 'Immunity', 'Less', 'Nightfall / Love Theme', 'Lobby', 'Slow Collapse', 'Reciting The Airships', 'Opalescent', 'Welcome to Ibb & Obb', 'We Travel', 'Endless Falls', 'The Wider Sun', 'All Farewells Are Sudden', 'Beatrice Part 2', \"Don't Go Where I Can't Find You\", 'Humectez La Mouture', 'Iona', 'Hipnoide', 'Hinterland', 'Dungtitled (In a Major)', 'Sleeping Giant', 'Overline', 'A Temporary Life', 'Atomos III', 'The Little Light Fades', 'First Light', 'Stationary', 'Breathing With Assistance', 'Deer', 'Cadence', 'Weightless Part 3', 'IV', 'Even Though We Sleep', 'Sleepless', 'Nothing It Can', 'Interiors', 'Melancholia II', 'Largo', 'Buildings and People', 'Seeing Stars', 'Þú ert sólin', 'Starscapes - Ambient', 'Searchlight', \"Renay's Song\", 'A Distant Light', 'New Age Sunrise', 'Sentinel', 'On Wings', 'Only in the Dark', 'Requiem On Frankfort Ave', 'Candles', 'Poa Alpina', 'Untitled #3 (Samskeyti)', 'Beyond the Sky']\n"
     ]
    }
   ],
   "source": [
    "list_of_all_titles = df['Track'].tolist()\n",
    "print(list_of_all_titles)"
   ]
  },
  {
   "cell_type": "code",
   "execution_count": 23,
   "id": "45dce18c",
   "metadata": {},
   "outputs": [
    {
     "name": "stdout",
     "output_type": "stream",
     "text": [
      "['Happier']\n"
     ]
    }
   ],
   "source": [
    "find_close_match = difflib.get_close_matches(song_name, list_of_all_titles)\n",
    "print(find_close_match)"
   ]
  },
  {
   "cell_type": "code",
   "execution_count": 24,
   "id": "ffc1cfbe",
   "metadata": {},
   "outputs": [
    {
     "name": "stdout",
     "output_type": "stream",
     "text": [
      "Happier\n"
     ]
    }
   ],
   "source": [
    "close_match = find_close_match[0]\n",
    "print(close_match)"
   ]
  },
  {
   "cell_type": "code",
   "execution_count": 25,
   "id": "753c13a0",
   "metadata": {},
   "outputs": [
    {
     "name": "stdout",
     "output_type": "stream",
     "text": [
      "162\n"
     ]
    }
   ],
   "source": [
    "\n",
    "\n",
    "index_of_the_song = df[df.Track == close_match]['Index'].values[0]\n",
    "print(index_of_the_song)"
   ]
  },
  {
   "cell_type": "code",
   "execution_count": 26,
   "id": "505b908c",
   "metadata": {},
   "outputs": [
    {
     "name": "stdout",
     "output_type": "stream",
     "text": [
      "[(0, 0.0), (1, 0.0), (2, 0.15532765081620284), (3, 0.0), (4, 0.0), (5, 0.0), (6, 0.0), (7, 0.0), (8, 0.0), (9, 0.0), (10, 0.0), (11, 0.0), (12, 0.0), (13, 0.0), (14, 0.0), (15, 0.0), (16, 0.0), (17, 0.0), (18, 0.0), (19, 0.0), (20, 0.0), (21, 0.0), (22, 0.0), (23, 0.0), (24, 0.0), (25, 0.0), (26, 0.0), (27, 0.0), (28, 0.0), (29, 0.0), (30, 0.0), (31, 0.0), (32, 0.0), (33, 0.0), (34, 0.0), (35, 0.0), (36, 0.0), (37, 0.0), (38, 0.2531439646902891), (39, 0.0), (40, 0.0), (41, 0.0), (42, 0.0), (43, 0.0), (44, 0.0), (45, 0.0), (46, 0.0), (47, 0.0), (48, 0.0), (49, 0.0), (50, 0.0), (51, 0.0), (52, 0.0), (53, 0.0), (54, 0.0), (55, 0.0), (56, 0.0), (57, 0.0), (58, 0.0), (59, 0.0), (60, 0.0), (61, 0.0), (62, 0.0), (63, 0.0), (64, 0.0), (65, 0.0), (66, 0.0), (67, 0.0), (68, 0.0), (69, 0.0), (70, 0.0), (71, 0.0), (72, 0.0), (73, 0.0), (74, 0.0), (75, 0.0), (76, 0.0), (77, 0.0), (78, 0.0), (79, 0.0), (80, 0.0), (81, 0.0), (82, 0.0), (83, 0.0), (84, 0.0), (85, 0.0), (86, 0.0), (87, 0.0), (88, 0.0), (89, 0.0), (90, 0.0), (91, 0.0), (92, 0.0), (93, 0.0), (94, 0.0), (95, 0.0), (96, 0.0), (97, 0.0), (98, 0.0), (99, 0.0), (100, 0.0), (101, 0.0), (102, 0.0), (103, 0.0), (104, 0.0), (105, 0.0), (106, 0.0), (107, 0.0), (108, 0.0), (109, 0.0), (110, 0.0), (111, 0.0), (112, 0.0), (113, 0.0), (114, 0.0), (115, 0.0), (116, 0.0), (117, 0.0), (118, 0.0), (119, 0.0), (120, 0.0), (121, 0.0), (122, 0.0), (123, 0.0), (124, 0.0), (125, 0.0), (126, 0.0), (127, 0.0), (128, 0.0), (129, 0.0), (130, 0.0), (131, 0.0), (132, 0.0), (133, 0.0), (134, 0.0), (135, 0.0), (136, 0.0), (137, 0.0), (138, 0.0), (139, 0.0), (140, 0.0), (141, 0.0), (142, 0.0), (143, 0.0), (144, 0.0), (145, 0.0), (146, 0.0), (147, 0.0), (148, 0.21039731585938537), (149, 0.0), (150, 0.0), (151, 0.0), (152, 0.0), (153, 0.0), (154, 0.0), (155, 0.0), (156, 0.0), (157, 0.0), (158, 0.0), (159, 0.0), (160, 0.0), (161, 0.2161163340671786), (162, 1.0), (163, 0.0), (164, 0.0), (165, 0.0), (166, 0.0), (167, 0.0), (168, 0.0), (169, 0.0), (170, 0.0), (171, 0.0), (172, 0.0), (173, 0.0), (174, 0.0), (175, 0.0), (176, 0.0), (177, 0.0), (178, 0.0), (179, 0.0), (180, 0.0), (181, 0.0), (182, 0.0), (183, 0.0), (184, 0.0), (185, 0.0), (186, 0.0), (187, 0.0), (188, 0.0), (189, 0.0), (190, 0.0), (191, 0.0), (192, 0.0), (193, 0.0), (194, 0.0), (195, 0.0), (196, 0.0), (197, 0.0), (198, 0.0), (199, 0.0), (200, 0.0), (201, 0.0), (202, 0.0), (203, 0.0), (204, 0.0), (205, 0.0), (206, 0.0), (207, 0.0), (208, 0.0), (209, 0.0), (210, 0.0), (211, 0.0), (212, 0.0), (213, 0.0), (214, 0.0), (215, 0.0), (216, 0.0), (217, 0.0), (218, 0.0), (219, 0.0), (220, 0.0), (221, 0.0), (222, 0.0), (223, 0.0), (224, 0.0), (225, 0.0), (226, 0.0), (227, 0.0), (228, 0.0), (229, 0.0), (230, 0.0), (231, 0.0), (232, 0.0), (233, 0.0), (234, 0.0), (235, 0.0), (236, 0.0), (237, 0.0), (238, 0.0), (239, 0.0), (240, 0.0), (241, 0.0), (242, 0.0), (243, 0.0), (244, 0.48577590413167643), (245, 0.0), (246, 0.0), (247, 0.0), (248, 0.0), (249, 0.20336275462468326), (250, 0.0), (251, 0.0), (252, 0.0), (253, 0.0), (254, 0.0), (255, 0.0), (256, 0.0), (257, 0.0), (258, 0.0), (259, 0.0), (260, 0.0), (261, 0.0), (262, 0.0), (263, 0.0), (264, 0.0), (265, 0.0), (266, 0.0), (267, 0.0), (268, 0.0), (269, 0.0), (270, 0.0), (271, 0.0), (272, 0.0), (273, 0.0), (274, 0.0), (275, 0.0), (276, 0.0), (277, 0.0), (278, 0.0), (279, 0.0), (280, 0.0), (281, 0.0), (282, 0.0), (283, 0.0), (284, 0.0), (285, 0.0), (286, 0.0), (287, 0.0), (288, 0.0), (289, 0.0), (290, 0.0), (291, 0.0), (292, 0.0), (293, 0.0), (294, 0.0), (295, 0.0), (296, 0.0), (297, 0.0), (298, 0.0), (299, 0.0), (300, 0.0), (301, 0.0), (302, 0.0), (303, 0.0), (304, 0.0), (305, 0.0), (306, 0.0), (307, 0.0), (308, 0.0), (309, 0.0), (310, 0.0), (311, 0.0), (312, 0.0), (313, 0.0), (314, 0.0), (315, 0.0), (316, 0.0), (317, 0.0), (318, 0.0), (319, 0.0), (320, 0.0), (321, 0.0), (322, 0.0), (323, 0.0), (324, 0.0), (325, 0.0), (326, 0.0), (327, 0.0), (328, 0.0), (329, 0.0), (330, 0.0), (331, 0.0), (332, 0.0), (333, 0.0), (334, 0.2965603116035774), (335, 0.0), (336, 0.0), (337, 0.0), (338, 0.0), (339, 0.0), (340, 0.0), (341, 0.0), (342, 0.0), (343, 0.0), (344, 0.0), (345, 0.0), (346, 0.0), (347, 0.0), (348, 0.0), (349, 0.0), (350, 0.0), (351, 0.0), (352, 0.0), (353, 0.0), (354, 0.0), (355, 0.0), (356, 0.0), (357, 0.0), (358, 0.0), (359, 0.0), (360, 0.0), (361, 0.0), (362, 0.0), (363, 0.0), (364, 0.0), (365, 0.0), (366, 0.0), (367, 0.0), (368, 0.0), (369, 0.0), (370, 0.0), (371, 0.0), (372, 0.0), (373, 0.0), (374, 0.0), (375, 0.0), (376, 0.0), (377, 0.0), (378, 0.0), (379, 0.0), (380, 0.0), (381, 0.0), (382, 0.0), (383, 0.0), (384, 0.0), (385, 0.0), (386, 0.0), (387, 0.0), (388, 0.0), (389, 0.0), (390, 0.0), (391, 0.0), (392, 0.0), (393, 0.0), (394, 0.0), (395, 0.0), (396, 0.0), (397, 0.0), (398, 0.0), (399, 0.0), (400, 0.13381342581900768), (401, 0.0), (402, 0.0), (403, 0.0), (404, 0.0), (405, 0.0), (406, 0.0), (407, 0.0), (408, 0.0), (409, 0.0), (410, 0.0), (411, 0.0), (412, 0.0), (413, 0.0), (414, 0.0), (415, 0.0), (416, 0.0), (417, 0.0), (418, 0.0), (419, 0.0), (420, 0.0), (421, 0.0), (422, 0.0), (423, 0.0), (424, 0.0), (425, 0.0), (426, 0.0), (427, 0.0), (428, 0.0), (429, 0.0), (430, 0.0), (431, 0.0), (432, 0.0), (433, 0.0), (434, 0.0), (435, 0.0), (436, 0.0), (437, 0.0), (438, 0.0), (439, 0.0), (440, 0.0), (441, 0.0), (442, 0.0), (443, 0.0), (444, 0.0), (445, 0.0), (446, 0.0), (447, 0.0), (448, 0.0), (449, 0.0), (450, 0.0), (451, 0.0), (452, 0.0), (453, 0.0), (454, 0.0), (455, 0.0), (456, 0.0), (457, 0.0), (458, 0.0), (459, 0.0), (460, 0.0), (461, 0.0), (462, 0.0), (463, 0.0), (464, 0.0), (465, 0.0), (466, 0.0), (467, 0.0), (468, 0.0), (469, 0.0), (470, 0.0), (471, 0.0), (472, 0.0), (473, 0.0), (474, 0.0), (475, 0.0), (476, 0.0), (477, 0.0), (478, 0.0), (479, 0.0), (480, 0.0), (481, 0.0), (482, 0.0), (483, 0.0), (484, 0.0), (485, 0.0), (486, 0.0), (487, 0.0), (488, 0.0), (489, 0.0), (490, 0.0), (491, 0.0), (492, 0.0), (493, 0.0), (494, 0.0), (495, 0.0), (496, 0.0), (497, 0.0), (498, 0.0), (499, 0.0), (500, 0.0), (501, 0.0), (502, 0.0), (503, 0.0), (504, 0.0), (505, 0.0), (506, 0.0), (507, 0.0), (508, 0.0), (509, 0.0), (510, 0.0), (511, 0.0), (512, 0.0), (513, 0.0), (514, 0.0), (515, 0.0), (516, 0.0), (517, 0.0), (518, 0.0), (519, 0.0), (520, 0.0), (521, 0.0), (522, 0.0), (523, 0.0), (524, 0.0), (525, 0.0), (526, 0.0), (527, 0.0), (528, 0.0), (529, 0.0), (530, 0.0), (531, 0.0), (532, 0.0), (533, 0.0), (534, 0.0), (535, 0.0), (536, 0.0), (537, 0.0), (538, 0.0), (539, 0.0), (540, 0.0), (541, 0.0), (542, 0.0), (543, 0.0), (544, 0.0), (545, 0.0), (546, 0.0), (547, 0.0), (548, 0.0), (549, 0.0), (550, 0.0), (551, 0.0), (552, 0.0), (553, 0.0), (554, 0.0), (555, 0.0), (556, 0.0), (557, 0.0), (558, 0.0), (559, 0.0), (560, 0.0), (561, 0.0), (562, 0.0), (563, 0.0), (564, 0.0), (565, 0.0), (566, 0.0), (567, 0.0), (568, 0.0), (569, 0.0), (570, 0.0), (571, 0.0), (572, 0.0), (573, 0.0), (574, 0.0), (575, 0.0), (576, 0.0), (577, 0.0), (578, 0.0), (579, 0.0), (580, 0.0), (581, 0.0), (582, 0.0), (583, 0.0), (584, 0.0), (585, 0.0), (586, 0.0), (587, 0.0), (588, 0.0), (589, 0.0), (590, 0.0), (591, 0.0), (592, 0.0), (593, 0.0), (594, 0.0), (595, 0.0), (596, 0.0), (597, 0.0), (598, 0.0), (599, 0.0), (600, 0.0), (601, 0.0), (602, 0.0), (603, 0.0), (604, 0.0), (605, 0.0), (606, 0.0), (607, 0.0), (608, 0.0), (609, 0.0), (610, 0.0), (611, 0.0), (612, 0.0), (613, 0.0), (614, 0.0), (615, 0.0), (616, 0.0), (617, 0.0), (618, 0.0), (619, 0.0), (620, 0.0), (621, 0.0), (622, 0.0), (623, 0.0), (624, 0.0), (625, 0.0), (626, 0.0), (627, 0.0), (628, 0.0), (629, 0.0), (630, 0.0), (631, 0.0), (632, 0.0), (633, 0.0), (634, 0.0), (635, 0.0), (636, 0.0), (637, 0.0), (638, 0.0), (639, 0.0), (640, 0.0), (641, 0.0), (642, 0.0), (643, 0.0), (644, 0.0), (645, 0.0), (646, 0.0), (647, 0.0), (648, 0.0), (649, 0.0), (650, 0.0), (651, 0.0), (652, 0.0), (653, 0.0), (654, 0.0), (655, 0.0), (656, 0.0), (657, 0.0), (658, 0.0), (659, 0.0), (660, 0.0), (661, 0.0), (662, 0.0), (663, 0.0), (664, 0.0), (665, 0.0), (666, 0.0), (667, 0.0), (668, 0.0), (669, 0.0), (670, 0.0), (671, 0.0), (672, 0.0), (673, 0.0), (674, 0.0), (675, 0.0), (676, 0.0), (677, 0.0), (678, 0.0), (679, 0.0), (680, 0.0), (681, 0.3193676150626239), (682, 0.0), (683, 0.0), (684, 0.0), (685, 0.0), (686, 0.0), (687, 0.0), (688, 0.0), (689, 0.0), (690, 0.0), (691, 0.0), (692, 0.0), (693, 0.0), (694, 0.0), (695, 0.0), (696, 0.0), (697, 0.0), (698, 0.0), (699, 0.0), (700, 0.0), (701, 0.0), (702, 0.0), (703, 0.0), (704, 0.0), (705, 0.0), (706, 0.0), (707, 0.0), (708, 0.0), (709, 0.0), (710, 0.0), (711, 0.0), (712, 0.0), (713, 0.0), (714, 0.0), (715, 0.0), (716, 0.0), (717, 0.0), (718, 0.0), (719, 0.0), (720, 0.0), (721, 0.0), (722, 0.0), (723, 0.0), (724, 0.0), (725, 0.0), (726, 0.0), (727, 0.0), (728, 0.0), (729, 0.0), (730, 0.0), (731, 0.0), (732, 0.0), (733, 0.0), (734, 0.0), (735, 0.0), (736, 0.0), (737, 0.0), (738, 0.0), (739, 0.0), (740, 0.23397011793962433), (741, 0.0), (742, 0.0), (743, 0.0), (744, 0.0), (745, 0.0), (746, 0.0), (747, 0.0), (748, 0.0), (749, 0.0), (750, 0.0), (751, 0.0), (752, 0.0), (753, 0.0), (754, 0.0), (755, 0.0), (756, 0.0), (757, 0.0), (758, 0.0), (759, 0.0), (760, 0.0), (761, 0.0), (762, 0.0), (763, 0.0), (764, 0.0), (765, 0.0), (766, 0.0), (767, 0.0), (768, 0.0), (769, 0.0), (770, 0.0), (771, 0.0), (772, 0.0), (773, 0.0), (774, 0.0), (775, 0.32656105856266054), (776, 0.0), (777, 0.0), (778, 0.0), (779, 0.0), (780, 0.0), (781, 0.0), (782, 0.0), (783, 0.0), (784, 0.0), (785, 0.0), (786, 0.0), (787, 0.0), (788, 0.0), (789, 0.0), (790, 0.0), (791, 0.0), (792, 0.0), (793, 0.0), (794, 0.0), (795, 0.0), (796, 0.0), (797, 0.0), (798, 0.0), (799, 0.0), (800, 0.0), (801, 0.0), (802, 0.0), (803, 0.0), (804, 0.0), (805, 0.0), (806, 0.0), (807, 0.0), (808, 0.0), (809, 0.0), (810, 0.0), (811, 0.0), (812, 0.0), (813, 0.0), (814, 0.0), (815, 0.0), (816, 0.0), (817, 0.0), (818, 0.0), (819, 0.0), (820, 0.0), (821, 0.0), (822, 0.0), (823, 0.0), (824, 0.0), (825, 0.0), (826, 0.0), (827, 0.0), (828, 0.0), (829, 0.0), (830, 0.0), (831, 0.0), (832, 0.0), (833, 0.0), (834, 0.0), (835, 0.0), (836, 0.0), (837, 0.0), (838, 0.0), (839, 0.0), (840, 0.0), (841, 0.0), (842, 0.0), (843, 0.0), (844, 0.0), (845, 0.0), (846, 0.0), (847, 0.0), (848, 0.0), (849, 0.0), (850, 0.0), (851, 0.0), (852, 0.0), (853, 0.0), (854, 0.0), (855, 0.0), (856, 0.0), (857, 0.0), (858, 0.0), (859, 0.0), (860, 0.0), (861, 0.0), (862, 0.0), (863, 0.0), (864, 0.0), (865, 0.0), (866, 0.0), (867, 0.0), (868, 0.0), (869, 0.0), (870, 0.0), (871, 0.0), (872, 0.0), (873, 0.0), (874, 0.0), (875, 0.0), (876, 0.0), (877, 0.2517941914343977), (878, 0.0), (879, 0.0), (880, 0.0), (881, 0.0), (882, 0.0), (883, 0.0), (884, 0.0), (885, 0.0), (886, 0.0), (887, 0.0), (888, 0.0), (889, 0.0), (890, 0.0), (891, 0.0), (892, 0.0), (893, 0.0), (894, 0.0), (895, 0.0), (896, 0.0), (897, 0.0), (898, 0.0), (899, 0.0), (900, 0.0), (901, 0.0), (902, 0.0), (903, 0.0), (904, 0.0), (905, 0.0), (906, 0.0), (907, 0.0), (908, 0.0), (909, 0.0), (910, 0.0), (911, 0.0), (912, 0.0), (913, 0.0), (914, 0.0), (915, 0.0), (916, 0.0), (917, 0.0), (918, 0.0), (919, 0.0), (920, 0.0), (921, 0.0), (922, 0.0), (923, 0.0), (924, 0.0), (925, 0.0), (926, 0.0), (927, 0.0), (928, 0.0), (929, 0.0), (930, 0.2921882953085301), (931, 0.0), (932, 0.0), (933, 0.0), (934, 0.0), (935, 0.0), (936, 0.0), (937, 0.0), (938, 0.0), (939, 0.0), (940, 0.0), (941, 0.0), (942, 0.0), (943, 0.0), (944, 0.0), (945, 0.0), (946, 0.0), (947, 0.0), (948, 0.0), (949, 0.0), (950, 0.0), (951, 0.0), (952, 0.0), (953, 0.0), (954, 0.0), (955, 0.0), (956, 0.0), (957, 0.0), (958, 0.0), (959, 0.0), (960, 0.0), (961, 0.0), (962, 0.0), (963, 0.0), (964, 0.0), (965, 0.0), (966, 0.0), (967, 0.0), (968, 0.0), (969, 0.0), (970, 0.0), (971, 0.0), (972, 0.0), (973, 0.0), (974, 0.0), (975, 0.0), (976, 0.0), (977, 0.0), (978, 0.0), (979, 0.0), (980, 0.0), (981, 0.0), (982, 0.3158496564672184), (983, 0.0), (984, 0.0), (985, 0.0), (986, 0.0), (987, 0.0), (988, 0.0), (989, 0.0), (990, 0.0), (991, 0.0), (992, 0.0), (993, 0.0), (994, 0.0), (995, 0.0), (996, 0.0), (997, 0.0), (998, 0.0), (999, 0.0), (1000, 0.0), (1001, 0.0), (1002, 0.0), (1003, 0.0), (1004, 0.0), (1005, 0.0), (1006, 0.0), (1007, 0.0), (1008, 0.0), (1009, 0.0), (1010, 0.0), (1011, 0.0), (1012, 0.0), (1013, 0.0), (1014, 0.0), (1015, 0.0), (1016, 0.0), (1017, 0.0), (1018, 0.0), (1019, 0.0), (1020, 0.0), (1021, 0.0), (1022, 0.0), (1023, 0.0), (1024, 0.0), (1025, 0.0), (1026, 0.0), (1027, 0.0), (1028, 0.0), (1029, 0.0), (1030, 0.0), (1031, 0.0), (1032, 0.0), (1033, 0.0), (1034, 0.0), (1035, 0.0), (1036, 0.0), (1037, 0.0), (1038, 0.0), (1039, 0.0), (1040, 0.0), (1041, 0.0), (1042, 0.0), (1043, 0.0), (1044, 0.0), (1045, 0.0), (1046, 0.0), (1047, 0.0), (1048, 0.0), (1049, 0.0), (1050, 0.0), (1051, 0.0), (1052, 0.0), (1053, 0.0), (1054, 0.0), (1055, 0.0), (1056, 0.0), (1057, 0.0), (1058, 0.0), (1059, 0.0), (1060, 0.0), (1061, 0.0), (1062, 0.0), (1063, 0.0), (1064, 0.0), (1065, 0.0), (1066, 0.0), (1067, 0.0), (1068, 0.0), (1069, 0.0), (1070, 0.0), (1071, 0.0), (1072, 0.0), (1073, 0.0), (1074, 0.0), (1075, 0.0), (1076, 0.0), (1077, 0.0), (1078, 0.0), (1079, 0.0), (1080, 0.0), (1081, 0.0), (1082, 0.0), (1083, 0.0), (1084, 0.0), (1085, 0.0), (1086, 0.0), (1087, 0.0), (1088, 0.0), (1089, 0.0), (1090, 0.0), (1091, 0.21288136020286222), (1092, 0.0), (1093, 0.0), (1094, 0.0), (1095, 0.0), (1096, 0.0), (1097, 0.0), (1098, 0.0), (1099, 0.0), (1100, 0.0), (1101, 0.0), (1102, 0.0), (1103, 0.0), (1104, 0.0), (1105, 0.0), (1106, 0.0), (1107, 0.0), (1108, 0.0), (1109, 0.0), (1110, 0.0), (1111, 0.0), (1112, 0.0), (1113, 0.0), (1114, 0.0), (1115, 0.0), (1116, 0.0), (1117, 0.0), (1118, 0.0), (1119, 0.0), (1120, 0.0), (1121, 0.0), (1122, 0.0), (1123, 0.0), (1124, 0.0), (1125, 0.0), (1126, 0.0), (1127, 0.0), (1128, 0.0), (1129, 0.0), (1130, 0.0), (1131, 0.0), (1132, 0.0), (1133, 0.0), (1134, 0.0), (1135, 0.0), (1136, 0.0), (1137, 0.0), (1138, 0.0), (1139, 0.0), (1140, 0.0), (1141, 0.0), (1142, 0.0), (1143, 0.0), (1144, 0.0), (1145, 0.0), (1146, 0.0), (1147, 0.0), (1148, 0.0), (1149, 0.0), (1150, 0.0), (1151, 0.0), (1152, 0.0), (1153, 0.0), (1154, 0.0), (1155, 0.0), (1156, 0.0), (1157, 0.0), (1158, 0.0), (1159, 0.0), (1160, 0.0), (1161, 0.0), (1162, 0.0), (1163, 0.0), (1164, 0.0), (1165, 0.0), (1166, 0.0), (1167, 0.0), (1168, 0.0), (1169, 0.0), (1170, 0.0), (1171, 0.0), (1172, 0.0), (1173, 0.0), (1174, 0.0), (1175, 0.0), (1176, 0.0), (1177, 0.0), (1178, 0.0), (1179, 0.0), (1180, 0.0), (1181, 0.0), (1182, 0.0), (1183, 0.0), (1184, 0.0), (1185, 0.0), (1186, 0.0), (1187, 0.0), (1188, 0.0), (1189, 0.0), (1190, 0.0), (1191, 0.0), (1192, 0.0), (1193, 0.0), (1194, 0.0), (1195, 0.0), (1196, 0.0), (1197, 0.0), (1198, 0.0), (1199, 0.0), (1200, 0.0), (1201, 0.0), (1202, 0.0), (1203, 0.0), (1204, 0.0), (1205, 0.0), (1206, 0.0), (1207, 0.0), (1208, 0.0), (1209, 0.0), (1210, 0.0), (1211, 0.0), (1212, 0.0), (1213, 0.0), (1214, 0.0), (1215, 0.0), (1216, 0.0), (1217, 0.0), (1218, 0.0), (1219, 0.0), (1220, 0.0), (1221, 0.0), (1222, 0.0), (1223, 0.0), (1224, 0.0), (1225, 0.0), (1226, 0.0), (1227, 0.0), (1228, 0.0), (1229, 0.0), (1230, 0.0), (1231, 0.0), (1232, 0.0), (1233, 0.0), (1234, 0.0), (1235, 0.0), (1236, 0.0), (1237, 0.0)]\n"
     ]
    }
   ],
   "source": [
    "\n",
    "\n",
    "similarity_score = list(enumerate(similarity[index_of_the_song]))\n",
    "print(similarity_score)"
   ]
  },
  {
   "cell_type": "code",
   "execution_count": 27,
   "id": "b465b263",
   "metadata": {},
   "outputs": [
    {
     "name": "stdout",
     "output_type": "stream",
     "text": [
      "[(162, 1.0), (244, 0.48577590413167643), (775, 0.32656105856266054), (681, 0.3193676150626239), (982, 0.3158496564672184), (334, 0.2965603116035774), (930, 0.2921882953085301), (38, 0.2531439646902891), (877, 0.2517941914343977), (740, 0.23397011793962433), (161, 0.2161163340671786), (1091, 0.21288136020286222), (148, 0.21039731585938537), (249, 0.20336275462468326), (2, 0.15532765081620284), (400, 0.13381342581900768), (0, 0.0), (1, 0.0), (3, 0.0), (4, 0.0), (5, 0.0), (6, 0.0), (7, 0.0), (8, 0.0), (9, 0.0), (10, 0.0), (11, 0.0), (12, 0.0), (13, 0.0), (14, 0.0), (15, 0.0), (16, 0.0), (17, 0.0), (18, 0.0), (19, 0.0), (20, 0.0), (21, 0.0), (22, 0.0), (23, 0.0), (24, 0.0), (25, 0.0), (26, 0.0), (27, 0.0), (28, 0.0), (29, 0.0), (30, 0.0), (31, 0.0), (32, 0.0), (33, 0.0), (34, 0.0), (35, 0.0), (36, 0.0), (37, 0.0), (39, 0.0), (40, 0.0), (41, 0.0), (42, 0.0), (43, 0.0), (44, 0.0), (45, 0.0), (46, 0.0), (47, 0.0), (48, 0.0), (49, 0.0), (50, 0.0), (51, 0.0), (52, 0.0), (53, 0.0), (54, 0.0), (55, 0.0), (56, 0.0), (57, 0.0), (58, 0.0), (59, 0.0), (60, 0.0), (61, 0.0), (62, 0.0), (63, 0.0), (64, 0.0), (65, 0.0), (66, 0.0), (67, 0.0), (68, 0.0), (69, 0.0), (70, 0.0), (71, 0.0), (72, 0.0), (73, 0.0), (74, 0.0), (75, 0.0), (76, 0.0), (77, 0.0), (78, 0.0), (79, 0.0), (80, 0.0), (81, 0.0), (82, 0.0), (83, 0.0), (84, 0.0), (85, 0.0), (86, 0.0), (87, 0.0), (88, 0.0), (89, 0.0), (90, 0.0), (91, 0.0), (92, 0.0), (93, 0.0), (94, 0.0), (95, 0.0), (96, 0.0), (97, 0.0), (98, 0.0), (99, 0.0), (100, 0.0), (101, 0.0), (102, 0.0), (103, 0.0), (104, 0.0), (105, 0.0), (106, 0.0), (107, 0.0), (108, 0.0), (109, 0.0), (110, 0.0), (111, 0.0), (112, 0.0), (113, 0.0), (114, 0.0), (115, 0.0), (116, 0.0), (117, 0.0), (118, 0.0), (119, 0.0), (120, 0.0), (121, 0.0), (122, 0.0), (123, 0.0), (124, 0.0), (125, 0.0), (126, 0.0), (127, 0.0), (128, 0.0), (129, 0.0), (130, 0.0), (131, 0.0), (132, 0.0), (133, 0.0), (134, 0.0), (135, 0.0), (136, 0.0), (137, 0.0), (138, 0.0), (139, 0.0), (140, 0.0), (141, 0.0), (142, 0.0), (143, 0.0), (144, 0.0), (145, 0.0), (146, 0.0), (147, 0.0), (149, 0.0), (150, 0.0), (151, 0.0), (152, 0.0), (153, 0.0), (154, 0.0), (155, 0.0), (156, 0.0), (157, 0.0), (158, 0.0), (159, 0.0), (160, 0.0), (163, 0.0), (164, 0.0), (165, 0.0), (166, 0.0), (167, 0.0), (168, 0.0), (169, 0.0), (170, 0.0), (171, 0.0), (172, 0.0), (173, 0.0), (174, 0.0), (175, 0.0), (176, 0.0), (177, 0.0), (178, 0.0), (179, 0.0), (180, 0.0), (181, 0.0), (182, 0.0), (183, 0.0), (184, 0.0), (185, 0.0), (186, 0.0), (187, 0.0), (188, 0.0), (189, 0.0), (190, 0.0), (191, 0.0), (192, 0.0), (193, 0.0), (194, 0.0), (195, 0.0), (196, 0.0), (197, 0.0), (198, 0.0), (199, 0.0), (200, 0.0), (201, 0.0), (202, 0.0), (203, 0.0), (204, 0.0), (205, 0.0), (206, 0.0), (207, 0.0), (208, 0.0), (209, 0.0), (210, 0.0), (211, 0.0), (212, 0.0), (213, 0.0), (214, 0.0), (215, 0.0), (216, 0.0), (217, 0.0), (218, 0.0), (219, 0.0), (220, 0.0), (221, 0.0), (222, 0.0), (223, 0.0), (224, 0.0), (225, 0.0), (226, 0.0), (227, 0.0), (228, 0.0), (229, 0.0), (230, 0.0), (231, 0.0), (232, 0.0), (233, 0.0), (234, 0.0), (235, 0.0), (236, 0.0), (237, 0.0), (238, 0.0), (239, 0.0), (240, 0.0), (241, 0.0), (242, 0.0), (243, 0.0), (245, 0.0), (246, 0.0), (247, 0.0), (248, 0.0), (250, 0.0), (251, 0.0), (252, 0.0), (253, 0.0), (254, 0.0), (255, 0.0), (256, 0.0), (257, 0.0), (258, 0.0), (259, 0.0), (260, 0.0), (261, 0.0), (262, 0.0), (263, 0.0), (264, 0.0), (265, 0.0), (266, 0.0), (267, 0.0), (268, 0.0), (269, 0.0), (270, 0.0), (271, 0.0), (272, 0.0), (273, 0.0), (274, 0.0), (275, 0.0), (276, 0.0), (277, 0.0), (278, 0.0), (279, 0.0), (280, 0.0), (281, 0.0), (282, 0.0), (283, 0.0), (284, 0.0), (285, 0.0), (286, 0.0), (287, 0.0), (288, 0.0), (289, 0.0), (290, 0.0), (291, 0.0), (292, 0.0), (293, 0.0), (294, 0.0), (295, 0.0), (296, 0.0), (297, 0.0), (298, 0.0), (299, 0.0), (300, 0.0), (301, 0.0), (302, 0.0), (303, 0.0), (304, 0.0), (305, 0.0), (306, 0.0), (307, 0.0), (308, 0.0), (309, 0.0), (310, 0.0), (311, 0.0), (312, 0.0), (313, 0.0), (314, 0.0), (315, 0.0), (316, 0.0), (317, 0.0), (318, 0.0), (319, 0.0), (320, 0.0), (321, 0.0), (322, 0.0), (323, 0.0), (324, 0.0), (325, 0.0), (326, 0.0), (327, 0.0), (328, 0.0), (329, 0.0), (330, 0.0), (331, 0.0), (332, 0.0), (333, 0.0), (335, 0.0), (336, 0.0), (337, 0.0), (338, 0.0), (339, 0.0), (340, 0.0), (341, 0.0), (342, 0.0), (343, 0.0), (344, 0.0), (345, 0.0), (346, 0.0), (347, 0.0), (348, 0.0), (349, 0.0), (350, 0.0), (351, 0.0), (352, 0.0), (353, 0.0), (354, 0.0), (355, 0.0), (356, 0.0), (357, 0.0), (358, 0.0), (359, 0.0), (360, 0.0), (361, 0.0), (362, 0.0), (363, 0.0), (364, 0.0), (365, 0.0), (366, 0.0), (367, 0.0), (368, 0.0), (369, 0.0), (370, 0.0), (371, 0.0), (372, 0.0), (373, 0.0), (374, 0.0), (375, 0.0), (376, 0.0), (377, 0.0), (378, 0.0), (379, 0.0), (380, 0.0), (381, 0.0), (382, 0.0), (383, 0.0), (384, 0.0), (385, 0.0), (386, 0.0), (387, 0.0), (388, 0.0), (389, 0.0), (390, 0.0), (391, 0.0), (392, 0.0), (393, 0.0), (394, 0.0), (395, 0.0), (396, 0.0), (397, 0.0), (398, 0.0), (399, 0.0), (401, 0.0), (402, 0.0), (403, 0.0), (404, 0.0), (405, 0.0), (406, 0.0), (407, 0.0), (408, 0.0), (409, 0.0), (410, 0.0), (411, 0.0), (412, 0.0), (413, 0.0), (414, 0.0), (415, 0.0), (416, 0.0), (417, 0.0), (418, 0.0), (419, 0.0), (420, 0.0), (421, 0.0), (422, 0.0), (423, 0.0), (424, 0.0), (425, 0.0), (426, 0.0), (427, 0.0), (428, 0.0), (429, 0.0), (430, 0.0), (431, 0.0), (432, 0.0), (433, 0.0), (434, 0.0), (435, 0.0), (436, 0.0), (437, 0.0), (438, 0.0), (439, 0.0), (440, 0.0), (441, 0.0), (442, 0.0), (443, 0.0), (444, 0.0), (445, 0.0), (446, 0.0), (447, 0.0), (448, 0.0), (449, 0.0), (450, 0.0), (451, 0.0), (452, 0.0), (453, 0.0), (454, 0.0), (455, 0.0), (456, 0.0), (457, 0.0), (458, 0.0), (459, 0.0), (460, 0.0), (461, 0.0), (462, 0.0), (463, 0.0), (464, 0.0), (465, 0.0), (466, 0.0), (467, 0.0), (468, 0.0), (469, 0.0), (470, 0.0), (471, 0.0), (472, 0.0), (473, 0.0), (474, 0.0), (475, 0.0), (476, 0.0), (477, 0.0), (478, 0.0), (479, 0.0), (480, 0.0), (481, 0.0), (482, 0.0), (483, 0.0), (484, 0.0), (485, 0.0), (486, 0.0), (487, 0.0), (488, 0.0), (489, 0.0), (490, 0.0), (491, 0.0), (492, 0.0), (493, 0.0), (494, 0.0), (495, 0.0), (496, 0.0), (497, 0.0), (498, 0.0), (499, 0.0), (500, 0.0), (501, 0.0), (502, 0.0), (503, 0.0), (504, 0.0), (505, 0.0), (506, 0.0), (507, 0.0), (508, 0.0), (509, 0.0), (510, 0.0), (511, 0.0), (512, 0.0), (513, 0.0), (514, 0.0), (515, 0.0), (516, 0.0), (517, 0.0), (518, 0.0), (519, 0.0), (520, 0.0), (521, 0.0), (522, 0.0), (523, 0.0), (524, 0.0), (525, 0.0), (526, 0.0), (527, 0.0), (528, 0.0), (529, 0.0), (530, 0.0), (531, 0.0), (532, 0.0), (533, 0.0), (534, 0.0), (535, 0.0), (536, 0.0), (537, 0.0), (538, 0.0), (539, 0.0), (540, 0.0), (541, 0.0), (542, 0.0), (543, 0.0), (544, 0.0), (545, 0.0), (546, 0.0), (547, 0.0), (548, 0.0), (549, 0.0), (550, 0.0), (551, 0.0), (552, 0.0), (553, 0.0), (554, 0.0), (555, 0.0), (556, 0.0), (557, 0.0), (558, 0.0), (559, 0.0), (560, 0.0), (561, 0.0), (562, 0.0), (563, 0.0), (564, 0.0), (565, 0.0), (566, 0.0), (567, 0.0), (568, 0.0), (569, 0.0), (570, 0.0), (571, 0.0), (572, 0.0), (573, 0.0), (574, 0.0), (575, 0.0), (576, 0.0), (577, 0.0), (578, 0.0), (579, 0.0), (580, 0.0), (581, 0.0), (582, 0.0), (583, 0.0), (584, 0.0), (585, 0.0), (586, 0.0), (587, 0.0), (588, 0.0), (589, 0.0), (590, 0.0), (591, 0.0), (592, 0.0), (593, 0.0), (594, 0.0), (595, 0.0), (596, 0.0), (597, 0.0), (598, 0.0), (599, 0.0), (600, 0.0), (601, 0.0), (602, 0.0), (603, 0.0), (604, 0.0), (605, 0.0), (606, 0.0), (607, 0.0), (608, 0.0), (609, 0.0), (610, 0.0), (611, 0.0), (612, 0.0), (613, 0.0), (614, 0.0), (615, 0.0), (616, 0.0), (617, 0.0), (618, 0.0), (619, 0.0), (620, 0.0), (621, 0.0), (622, 0.0), (623, 0.0), (624, 0.0), (625, 0.0), (626, 0.0), (627, 0.0), (628, 0.0), (629, 0.0), (630, 0.0), (631, 0.0), (632, 0.0), (633, 0.0), (634, 0.0), (635, 0.0), (636, 0.0), (637, 0.0), (638, 0.0), (639, 0.0), (640, 0.0), (641, 0.0), (642, 0.0), (643, 0.0), (644, 0.0), (645, 0.0), (646, 0.0), (647, 0.0), (648, 0.0), (649, 0.0), (650, 0.0), (651, 0.0), (652, 0.0), (653, 0.0), (654, 0.0), (655, 0.0), (656, 0.0), (657, 0.0), (658, 0.0), (659, 0.0), (660, 0.0), (661, 0.0), (662, 0.0), (663, 0.0), (664, 0.0), (665, 0.0), (666, 0.0), (667, 0.0), (668, 0.0), (669, 0.0), (670, 0.0), (671, 0.0), (672, 0.0), (673, 0.0), (674, 0.0), (675, 0.0), (676, 0.0), (677, 0.0), (678, 0.0), (679, 0.0), (680, 0.0), (682, 0.0), (683, 0.0), (684, 0.0), (685, 0.0), (686, 0.0), (687, 0.0), (688, 0.0), (689, 0.0), (690, 0.0), (691, 0.0), (692, 0.0), (693, 0.0), (694, 0.0), (695, 0.0), (696, 0.0), (697, 0.0), (698, 0.0), (699, 0.0), (700, 0.0), (701, 0.0), (702, 0.0), (703, 0.0), (704, 0.0), (705, 0.0), (706, 0.0), (707, 0.0), (708, 0.0), (709, 0.0), (710, 0.0), (711, 0.0), (712, 0.0), (713, 0.0), (714, 0.0), (715, 0.0), (716, 0.0), (717, 0.0), (718, 0.0), (719, 0.0), (720, 0.0), (721, 0.0), (722, 0.0), (723, 0.0), (724, 0.0), (725, 0.0), (726, 0.0), (727, 0.0), (728, 0.0), (729, 0.0), (730, 0.0), (731, 0.0), (732, 0.0), (733, 0.0), (734, 0.0), (735, 0.0), (736, 0.0), (737, 0.0), (738, 0.0), (739, 0.0), (741, 0.0), (742, 0.0), (743, 0.0), (744, 0.0), (745, 0.0), (746, 0.0), (747, 0.0), (748, 0.0), (749, 0.0), (750, 0.0), (751, 0.0), (752, 0.0), (753, 0.0), (754, 0.0), (755, 0.0), (756, 0.0), (757, 0.0), (758, 0.0), (759, 0.0), (760, 0.0), (761, 0.0), (762, 0.0), (763, 0.0), (764, 0.0), (765, 0.0), (766, 0.0), (767, 0.0), (768, 0.0), (769, 0.0), (770, 0.0), (771, 0.0), (772, 0.0), (773, 0.0), (774, 0.0), (776, 0.0), (777, 0.0), (778, 0.0), (779, 0.0), (780, 0.0), (781, 0.0), (782, 0.0), (783, 0.0), (784, 0.0), (785, 0.0), (786, 0.0), (787, 0.0), (788, 0.0), (789, 0.0), (790, 0.0), (791, 0.0), (792, 0.0), (793, 0.0), (794, 0.0), (795, 0.0), (796, 0.0), (797, 0.0), (798, 0.0), (799, 0.0), (800, 0.0), (801, 0.0), (802, 0.0), (803, 0.0), (804, 0.0), (805, 0.0), (806, 0.0), (807, 0.0), (808, 0.0), (809, 0.0), (810, 0.0), (811, 0.0), (812, 0.0), (813, 0.0), (814, 0.0), (815, 0.0), (816, 0.0), (817, 0.0), (818, 0.0), (819, 0.0), (820, 0.0), (821, 0.0), (822, 0.0), (823, 0.0), (824, 0.0), (825, 0.0), (826, 0.0), (827, 0.0), (828, 0.0), (829, 0.0), (830, 0.0), (831, 0.0), (832, 0.0), (833, 0.0), (834, 0.0), (835, 0.0), (836, 0.0), (837, 0.0), (838, 0.0), (839, 0.0), (840, 0.0), (841, 0.0), (842, 0.0), (843, 0.0), (844, 0.0), (845, 0.0), (846, 0.0), (847, 0.0), (848, 0.0), (849, 0.0), (850, 0.0), (851, 0.0), (852, 0.0), (853, 0.0), (854, 0.0), (855, 0.0), (856, 0.0), (857, 0.0), (858, 0.0), (859, 0.0), (860, 0.0), (861, 0.0), (862, 0.0), (863, 0.0), (864, 0.0), (865, 0.0), (866, 0.0), (867, 0.0), (868, 0.0), (869, 0.0), (870, 0.0), (871, 0.0), (872, 0.0), (873, 0.0), (874, 0.0), (875, 0.0), (876, 0.0), (878, 0.0), (879, 0.0), (880, 0.0), (881, 0.0), (882, 0.0), (883, 0.0), (884, 0.0), (885, 0.0), (886, 0.0), (887, 0.0), (888, 0.0), (889, 0.0), (890, 0.0), (891, 0.0), (892, 0.0), (893, 0.0), (894, 0.0), (895, 0.0), (896, 0.0), (897, 0.0), (898, 0.0), (899, 0.0), (900, 0.0), (901, 0.0), (902, 0.0), (903, 0.0), (904, 0.0), (905, 0.0), (906, 0.0), (907, 0.0), (908, 0.0), (909, 0.0), (910, 0.0), (911, 0.0), (912, 0.0), (913, 0.0), (914, 0.0), (915, 0.0), (916, 0.0), (917, 0.0), (918, 0.0), (919, 0.0), (920, 0.0), (921, 0.0), (922, 0.0), (923, 0.0), (924, 0.0), (925, 0.0), (926, 0.0), (927, 0.0), (928, 0.0), (929, 0.0), (931, 0.0), (932, 0.0), (933, 0.0), (934, 0.0), (935, 0.0), (936, 0.0), (937, 0.0), (938, 0.0), (939, 0.0), (940, 0.0), (941, 0.0), (942, 0.0), (943, 0.0), (944, 0.0), (945, 0.0), (946, 0.0), (947, 0.0), (948, 0.0), (949, 0.0), (950, 0.0), (951, 0.0), (952, 0.0), (953, 0.0), (954, 0.0), (955, 0.0), (956, 0.0), (957, 0.0), (958, 0.0), (959, 0.0), (960, 0.0), (961, 0.0), (962, 0.0), (963, 0.0), (964, 0.0), (965, 0.0), (966, 0.0), (967, 0.0), (968, 0.0), (969, 0.0), (970, 0.0), (971, 0.0), (972, 0.0), (973, 0.0), (974, 0.0), (975, 0.0), (976, 0.0), (977, 0.0), (978, 0.0), (979, 0.0), (980, 0.0), (981, 0.0), (983, 0.0), (984, 0.0), (985, 0.0), (986, 0.0), (987, 0.0), (988, 0.0), (989, 0.0), (990, 0.0), (991, 0.0), (992, 0.0), (993, 0.0), (994, 0.0), (995, 0.0), (996, 0.0), (997, 0.0), (998, 0.0), (999, 0.0), (1000, 0.0), (1001, 0.0), (1002, 0.0), (1003, 0.0), (1004, 0.0), (1005, 0.0), (1006, 0.0), (1007, 0.0), (1008, 0.0), (1009, 0.0), (1010, 0.0), (1011, 0.0), (1012, 0.0), (1013, 0.0), (1014, 0.0), (1015, 0.0), (1016, 0.0), (1017, 0.0), (1018, 0.0), (1019, 0.0), (1020, 0.0), (1021, 0.0), (1022, 0.0), (1023, 0.0), (1024, 0.0), (1025, 0.0), (1026, 0.0), (1027, 0.0), (1028, 0.0), (1029, 0.0), (1030, 0.0), (1031, 0.0), (1032, 0.0), (1033, 0.0), (1034, 0.0), (1035, 0.0), (1036, 0.0), (1037, 0.0), (1038, 0.0), (1039, 0.0), (1040, 0.0), (1041, 0.0), (1042, 0.0), (1043, 0.0), (1044, 0.0), (1045, 0.0), (1046, 0.0), (1047, 0.0), (1048, 0.0), (1049, 0.0), (1050, 0.0), (1051, 0.0), (1052, 0.0), (1053, 0.0), (1054, 0.0), (1055, 0.0), (1056, 0.0), (1057, 0.0), (1058, 0.0), (1059, 0.0), (1060, 0.0), (1061, 0.0), (1062, 0.0), (1063, 0.0), (1064, 0.0), (1065, 0.0), (1066, 0.0), (1067, 0.0), (1068, 0.0), (1069, 0.0), (1070, 0.0), (1071, 0.0), (1072, 0.0), (1073, 0.0), (1074, 0.0), (1075, 0.0), (1076, 0.0), (1077, 0.0), (1078, 0.0), (1079, 0.0), (1080, 0.0), (1081, 0.0), (1082, 0.0), (1083, 0.0), (1084, 0.0), (1085, 0.0), (1086, 0.0), (1087, 0.0), (1088, 0.0), (1089, 0.0), (1090, 0.0), (1092, 0.0), (1093, 0.0), (1094, 0.0), (1095, 0.0), (1096, 0.0), (1097, 0.0), (1098, 0.0), (1099, 0.0), (1100, 0.0), (1101, 0.0), (1102, 0.0), (1103, 0.0), (1104, 0.0), (1105, 0.0), (1106, 0.0), (1107, 0.0), (1108, 0.0), (1109, 0.0), (1110, 0.0), (1111, 0.0), (1112, 0.0), (1113, 0.0), (1114, 0.0), (1115, 0.0), (1116, 0.0), (1117, 0.0), (1118, 0.0), (1119, 0.0), (1120, 0.0), (1121, 0.0), (1122, 0.0), (1123, 0.0), (1124, 0.0), (1125, 0.0), (1126, 0.0), (1127, 0.0), (1128, 0.0), (1129, 0.0), (1130, 0.0), (1131, 0.0), (1132, 0.0), (1133, 0.0), (1134, 0.0), (1135, 0.0), (1136, 0.0), (1137, 0.0), (1138, 0.0), (1139, 0.0), (1140, 0.0), (1141, 0.0), (1142, 0.0), (1143, 0.0), (1144, 0.0), (1145, 0.0), (1146, 0.0), (1147, 0.0), (1148, 0.0), (1149, 0.0), (1150, 0.0), (1151, 0.0), (1152, 0.0), (1153, 0.0), (1154, 0.0), (1155, 0.0), (1156, 0.0), (1157, 0.0), (1158, 0.0), (1159, 0.0), (1160, 0.0), (1161, 0.0), (1162, 0.0), (1163, 0.0), (1164, 0.0), (1165, 0.0), (1166, 0.0), (1167, 0.0), (1168, 0.0), (1169, 0.0), (1170, 0.0), (1171, 0.0), (1172, 0.0), (1173, 0.0), (1174, 0.0), (1175, 0.0), (1176, 0.0), (1177, 0.0), (1178, 0.0), (1179, 0.0), (1180, 0.0), (1181, 0.0), (1182, 0.0), (1183, 0.0), (1184, 0.0), (1185, 0.0), (1186, 0.0), (1187, 0.0), (1188, 0.0), (1189, 0.0), (1190, 0.0), (1191, 0.0), (1192, 0.0), (1193, 0.0), (1194, 0.0), (1195, 0.0), (1196, 0.0), (1197, 0.0), (1198, 0.0), (1199, 0.0), (1200, 0.0), (1201, 0.0), (1202, 0.0), (1203, 0.0), (1204, 0.0), (1205, 0.0), (1206, 0.0), (1207, 0.0), (1208, 0.0), (1209, 0.0), (1210, 0.0), (1211, 0.0), (1212, 0.0), (1213, 0.0), (1214, 0.0), (1215, 0.0), (1216, 0.0), (1217, 0.0), (1218, 0.0), (1219, 0.0), (1220, 0.0), (1221, 0.0), (1222, 0.0), (1223, 0.0), (1224, 0.0), (1225, 0.0), (1226, 0.0), (1227, 0.0), (1228, 0.0), (1229, 0.0), (1230, 0.0), (1231, 0.0), (1232, 0.0), (1233, 0.0), (1234, 0.0), (1235, 0.0), (1236, 0.0), (1237, 0.0)]\n"
     ]
    }
   ],
   "source": [
    "\n",
    "\n",
    "sorted_similar_songs = sorted(similarity_score, key = lambda x:x[1], reverse = True) \n",
    "print(sorted_similar_songs)"
   ]
  },
  {
   "cell_type": "code",
   "execution_count": 28,
   "id": "2e47c31d",
   "metadata": {},
   "outputs": [
    {
     "name": "stdout",
     "output_type": "stream",
     "text": [
      "Songs suggested for you : \n",
      "\n",
      "1 . Happier\n",
      "2 . Pompeii\n",
      "3 . Down\n",
      "4 . Alone\n",
      "5 . Mask Off - Marshmello Remix\n",
      "6 . Happier Than Ever\n",
      "7 . Before U\n",
      "8 . Fly\n",
      "9 . Moving On\n",
      "10 . Silence\n",
      "11 . FRIENDS\n",
      "12 . Come & Go (with Marshmello)\n",
      "13 . Wolves\n",
      "14 . Here With Me\n",
      "15 . FRIENDS - R3hab Remix\n",
      "16 . Leave Before You Love Me (with Jonas Brothers)\n",
      "17 . Darkside\n",
      "18 . Rise\n",
      "19 . The Middle\n",
      "20 . In My Mind\n",
      "21 . REMEDY\n",
      "22 . Sick Boy\n",
      "23 . We Don't Care\n",
      "24 . Ignite\n",
      "25 . WTF (feat. Amber Van Day)\n",
      "26 . Favela\n",
      "27 . All For Love\n",
      "28 . Forever Young\n",
      "29 . High On Life (feat. Bonn)\n"
     ]
    }
   ],
   "source": [
    "\n",
    "\n",
    "print('Songs suggested for you : \\n')\n",
    "\n",
    "i = 1\n",
    "\n",
    "for movie in sorted_similar_songs:\n",
    "  index = movie[0]\n",
    "  title_from_index = df[df.index==index]['Track'].values[0]\n",
    "  if (i<30):\n",
    "    print(i, '.',title_from_index)\n",
    "    i+=1"
   ]
  },
  {
   "cell_type": "code",
   "execution_count": null,
   "id": "078faadc",
   "metadata": {},
   "outputs": [],
   "source": []
  },
  {
   "cell_type": "code",
   "execution_count": null,
   "id": "5585b7d8",
   "metadata": {},
   "outputs": [],
   "source": []
  }
 ],
 "metadata": {
  "kernelspec": {
   "display_name": "Python 3 (ipykernel)",
   "language": "python",
   "name": "python3"
  },
  "language_info": {
   "codemirror_mode": {
    "name": "ipython",
    "version": 3
   },
   "file_extension": ".py",
   "mimetype": "text/x-python",
   "name": "python",
   "nbconvert_exporter": "python",
   "pygments_lexer": "ipython3",
   "version": "3.9.7"
  }
 },
 "nbformat": 4,
 "nbformat_minor": 5
}
